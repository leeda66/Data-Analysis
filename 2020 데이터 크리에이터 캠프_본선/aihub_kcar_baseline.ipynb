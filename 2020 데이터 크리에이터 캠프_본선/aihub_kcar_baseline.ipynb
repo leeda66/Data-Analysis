{
  "nbformat": 4,
  "nbformat_minor": 0,
  "metadata": {
    "colab": {
      "name": "aihub_kcar_baseline.ipynb",
      "provenance": [],
      "collapsed_sections": [],
      "toc_visible": true
    },
    "kernelspec": {
      "display_name": "Python 3",
      "language": "python",
      "name": "python3"
    },
    "language_info": {
      "codemirror_mode": {
        "name": "ipython",
        "version": 3
      },
      "file_extension": ".py",
      "mimetype": "text/x-python",
      "name": "python",
      "nbconvert_exporter": "python",
      "pygments_lexer": "ipython3",
      "version": "3.7.3"
    }
  },
  "cells": [
    {
      "cell_type": "code",
      "metadata": {
        "colab": {
          "base_uri": "https://localhost:8080/"
        },
        "id": "lUfTrpuwfwsT",
        "outputId": "5d2f08e8-32ed-48e2-be6c-fcac01d98514"
      },
      "source": [
        "from google.colab import drive\n",
        "drive.mount('/content/drive')"
      ],
      "execution_count": 1,
      "outputs": [
        {
          "output_type": "stream",
          "text": [
            "Mounted at /content/drive\n"
          ],
          "name": "stdout"
        }
      ]
    },
    {
      "cell_type": "code",
      "metadata": {
        "id": "3vVVCd1efczx"
      },
      "source": [
        "import pandas as pd\n",
        "import numpy as np\n",
        "import matplotlib.pyplot as plt\n",
        "from sklearn.linear_model import LogisticRegression\n",
        "from sklearn.svm import SVC\n",
        "from sklearn.linear_model import Perceptron\n",
        "from sklearn.model_selection import train_test_split\n",
        "from sklearn.metrics import mean_squared_error"
      ],
      "execution_count": 2,
      "outputs": []
    },
    {
      "cell_type": "markdown",
      "metadata": {
        "id": "JLXF5kVwfcz6"
      },
      "source": [
        "## 세부사항\n",
        "\n",
        "- X 데이터와 Y 데이터가 하나의 파일(csv)에 있음\n",
        "- 학습 데이터와 테스트 데이터의 비율은 80% : 20%\n",
        "- 모든 데이터(컬럼,로우)를 학습에 사용할 필요는 없습니다.\n",
        "- 실제 모델 결과보다 모델을 만들기까지의 과정이 중요합니다.\n",
        "- 어떠한 논리로 분석을 진행하였는지 설명을 세부적으로 적어주시길 바랍니다.\n",
        "- 머신러닝을 사용한 모델링 과정을 하나 이상 넣어 주시길 바랍니다."
      ]
    },
    {
      "cell_type": "markdown",
      "metadata": {
        "id": "mG5Elp-bfc0F"
      },
      "source": [
        "# 차량 이미지 데이터 (Classification)\n",
        "\n",
        "국내 차량 이미지 데이터를 보고 차량 클래스를 구분하는 모델을 만드시오.총 24,916개의 국산 차량 이미지 데이터가 있다.\n",
        "\n",
        "활용 예: CCTV나 자율주행차 개발에서 주위 차량 Detection 모델\n",
        "\n",
        "이미지는 30 x 30 x 3 짜리 이미지 가 픽셀 값으로 들어가 있고 마지막 컬럼에는 해당 차량의 클래스가 들어가 있다.\n",
        "\n",
        "파일명 : kcar.pkl (압축 형식 : Gzip)\n",
        "\n",
        "https://www.aihub.or.kr/aidata/130\n",
        "\n",
        "평가 지표 : Accuracy"
      ]
    },
    {
      "cell_type": "code",
      "metadata": {
        "colab": {
          "base_uri": "https://localhost:8080/"
        },
        "id": "n0peLvWIfc0F",
        "outputId": "fb21126d-3f63-4d28-cf8f-7345c90243c0"
      },
      "source": [
        "train = pd.read_pickle(\"/content/drive/My Drive/kcar.pkl\", compression='gzip')\n",
        "train.shape"
      ],
      "execution_count": 3,
      "outputs": [
        {
          "output_type": "execute_result",
          "data": {
            "text/plain": [
              "(24916, 2701)"
            ]
          },
          "metadata": {
            "tags": []
          },
          "execution_count": 3
        }
      ]
    },
    {
      "cell_type": "code",
      "metadata": {
        "colab": {
          "base_uri": "https://localhost:8080/",
          "height": 425
        },
        "id": "KAVhZ3j8x-dn",
        "outputId": "5204b283-4712-4bf1-c246-266473f01575"
      },
      "source": [
        "train.head() # 2700개의 픽셀과 1개의 라벨\n",
        "\n",
        "\n",
        "# 2701번째가 이미지에 해당하는 라벨 >> 이미지를 플랫한 상태 "
      ],
      "execution_count": 4,
      "outputs": [
        {
          "output_type": "execute_result",
          "data": {
            "text/html": [
              "<div>\n",
              "<style scoped>\n",
              "    .dataframe tbody tr th:only-of-type {\n",
              "        vertical-align: middle;\n",
              "    }\n",
              "\n",
              "    .dataframe tbody tr th {\n",
              "        vertical-align: top;\n",
              "    }\n",
              "\n",
              "    .dataframe thead th {\n",
              "        text-align: right;\n",
              "    }\n",
              "</style>\n",
              "<table border=\"1\" class=\"dataframe\">\n",
              "  <thead>\n",
              "    <tr style=\"text-align: right;\">\n",
              "      <th></th>\n",
              "      <th>0</th>\n",
              "      <th>1</th>\n",
              "      <th>2</th>\n",
              "      <th>3</th>\n",
              "      <th>4</th>\n",
              "      <th>5</th>\n",
              "      <th>6</th>\n",
              "      <th>7</th>\n",
              "      <th>8</th>\n",
              "      <th>9</th>\n",
              "      <th>10</th>\n",
              "      <th>11</th>\n",
              "      <th>12</th>\n",
              "      <th>13</th>\n",
              "      <th>14</th>\n",
              "      <th>15</th>\n",
              "      <th>16</th>\n",
              "      <th>17</th>\n",
              "      <th>18</th>\n",
              "      <th>19</th>\n",
              "      <th>20</th>\n",
              "      <th>21</th>\n",
              "      <th>22</th>\n",
              "      <th>23</th>\n",
              "      <th>24</th>\n",
              "      <th>25</th>\n",
              "      <th>26</th>\n",
              "      <th>27</th>\n",
              "      <th>28</th>\n",
              "      <th>29</th>\n",
              "      <th>30</th>\n",
              "      <th>31</th>\n",
              "      <th>32</th>\n",
              "      <th>33</th>\n",
              "      <th>34</th>\n",
              "      <th>35</th>\n",
              "      <th>36</th>\n",
              "      <th>37</th>\n",
              "      <th>38</th>\n",
              "      <th>39</th>\n",
              "      <th>...</th>\n",
              "      <th>2661</th>\n",
              "      <th>2662</th>\n",
              "      <th>2663</th>\n",
              "      <th>2664</th>\n",
              "      <th>2665</th>\n",
              "      <th>2666</th>\n",
              "      <th>2667</th>\n",
              "      <th>2668</th>\n",
              "      <th>2669</th>\n",
              "      <th>2670</th>\n",
              "      <th>2671</th>\n",
              "      <th>2672</th>\n",
              "      <th>2673</th>\n",
              "      <th>2674</th>\n",
              "      <th>2675</th>\n",
              "      <th>2676</th>\n",
              "      <th>2677</th>\n",
              "      <th>2678</th>\n",
              "      <th>2679</th>\n",
              "      <th>2680</th>\n",
              "      <th>2681</th>\n",
              "      <th>2682</th>\n",
              "      <th>2683</th>\n",
              "      <th>2684</th>\n",
              "      <th>2685</th>\n",
              "      <th>2686</th>\n",
              "      <th>2687</th>\n",
              "      <th>2688</th>\n",
              "      <th>2689</th>\n",
              "      <th>2690</th>\n",
              "      <th>2691</th>\n",
              "      <th>2692</th>\n",
              "      <th>2693</th>\n",
              "      <th>2694</th>\n",
              "      <th>2695</th>\n",
              "      <th>2696</th>\n",
              "      <th>2697</th>\n",
              "      <th>2698</th>\n",
              "      <th>2699</th>\n",
              "      <th>2700</th>\n",
              "    </tr>\n",
              "  </thead>\n",
              "  <tbody>\n",
              "    <tr>\n",
              "      <th>0</th>\n",
              "      <td>230</td>\n",
              "      <td>236</td>\n",
              "      <td>252</td>\n",
              "      <td>226</td>\n",
              "      <td>232</td>\n",
              "      <td>248</td>\n",
              "      <td>220</td>\n",
              "      <td>227</td>\n",
              "      <td>245</td>\n",
              "      <td>214</td>\n",
              "      <td>223</td>\n",
              "      <td>240</td>\n",
              "      <td>212</td>\n",
              "      <td>220</td>\n",
              "      <td>241</td>\n",
              "      <td>206</td>\n",
              "      <td>219</td>\n",
              "      <td>238</td>\n",
              "      <td>204</td>\n",
              "      <td>216</td>\n",
              "      <td>240</td>\n",
              "      <td>199</td>\n",
              "      <td>215</td>\n",
              "      <td>238</td>\n",
              "      <td>199</td>\n",
              "      <td>215</td>\n",
              "      <td>241</td>\n",
              "      <td>193</td>\n",
              "      <td>213</td>\n",
              "      <td>238</td>\n",
              "      <td>189</td>\n",
              "      <td>208</td>\n",
              "      <td>238</td>\n",
              "      <td>183</td>\n",
              "      <td>207</td>\n",
              "      <td>235</td>\n",
              "      <td>181</td>\n",
              "      <td>204</td>\n",
              "      <td>236</td>\n",
              "      <td>177</td>\n",
              "      <td>...</td>\n",
              "      <td>28</td>\n",
              "      <td>28</td>\n",
              "      <td>28</td>\n",
              "      <td>23</td>\n",
              "      <td>24</td>\n",
              "      <td>26</td>\n",
              "      <td>18</td>\n",
              "      <td>22</td>\n",
              "      <td>23</td>\n",
              "      <td>18</td>\n",
              "      <td>21</td>\n",
              "      <td>26</td>\n",
              "      <td>17</td>\n",
              "      <td>22</td>\n",
              "      <td>26</td>\n",
              "      <td>14</td>\n",
              "      <td>21</td>\n",
              "      <td>27</td>\n",
              "      <td>13</td>\n",
              "      <td>20</td>\n",
              "      <td>26</td>\n",
              "      <td>11</td>\n",
              "      <td>16</td>\n",
              "      <td>20</td>\n",
              "      <td>15</td>\n",
              "      <td>20</td>\n",
              "      <td>23</td>\n",
              "      <td>20</td>\n",
              "      <td>21</td>\n",
              "      <td>25</td>\n",
              "      <td>22</td>\n",
              "      <td>24</td>\n",
              "      <td>23</td>\n",
              "      <td>37</td>\n",
              "      <td>35</td>\n",
              "      <td>36</td>\n",
              "      <td>55</td>\n",
              "      <td>54</td>\n",
              "      <td>52</td>\n",
              "      <td>G80스포츠</td>\n",
              "    </tr>\n",
              "    <tr>\n",
              "      <th>1</th>\n",
              "      <td>235</td>\n",
              "      <td>238</td>\n",
              "      <td>243</td>\n",
              "      <td>251</td>\n",
              "      <td>254</td>\n",
              "      <td>255</td>\n",
              "      <td>251</td>\n",
              "      <td>255</td>\n",
              "      <td>255</td>\n",
              "      <td>242</td>\n",
              "      <td>249</td>\n",
              "      <td>255</td>\n",
              "      <td>239</td>\n",
              "      <td>246</td>\n",
              "      <td>255</td>\n",
              "      <td>248</td>\n",
              "      <td>255</td>\n",
              "      <td>255</td>\n",
              "      <td>247</td>\n",
              "      <td>255</td>\n",
              "      <td>255</td>\n",
              "      <td>238</td>\n",
              "      <td>248</td>\n",
              "      <td>255</td>\n",
              "      <td>246</td>\n",
              "      <td>255</td>\n",
              "      <td>255</td>\n",
              "      <td>249</td>\n",
              "      <td>255</td>\n",
              "      <td>255</td>\n",
              "      <td>251</td>\n",
              "      <td>255</td>\n",
              "      <td>255</td>\n",
              "      <td>249</td>\n",
              "      <td>250</td>\n",
              "      <td>255</td>\n",
              "      <td>248</td>\n",
              "      <td>248</td>\n",
              "      <td>250</td>\n",
              "      <td>251</td>\n",
              "      <td>...</td>\n",
              "      <td>54</td>\n",
              "      <td>59</td>\n",
              "      <td>62</td>\n",
              "      <td>46</td>\n",
              "      <td>53</td>\n",
              "      <td>59</td>\n",
              "      <td>40</td>\n",
              "      <td>47</td>\n",
              "      <td>55</td>\n",
              "      <td>36</td>\n",
              "      <td>45</td>\n",
              "      <td>54</td>\n",
              "      <td>36</td>\n",
              "      <td>44</td>\n",
              "      <td>55</td>\n",
              "      <td>38</td>\n",
              "      <td>46</td>\n",
              "      <td>59</td>\n",
              "      <td>40</td>\n",
              "      <td>48</td>\n",
              "      <td>59</td>\n",
              "      <td>33</td>\n",
              "      <td>39</td>\n",
              "      <td>51</td>\n",
              "      <td>38</td>\n",
              "      <td>45</td>\n",
              "      <td>53</td>\n",
              "      <td>42</td>\n",
              "      <td>45</td>\n",
              "      <td>50</td>\n",
              "      <td>51</td>\n",
              "      <td>52</td>\n",
              "      <td>54</td>\n",
              "      <td>69</td>\n",
              "      <td>70</td>\n",
              "      <td>65</td>\n",
              "      <td>124</td>\n",
              "      <td>123</td>\n",
              "      <td>118</td>\n",
              "      <td>G80스포츠</td>\n",
              "    </tr>\n",
              "    <tr>\n",
              "      <th>2</th>\n",
              "      <td>94</td>\n",
              "      <td>112</td>\n",
              "      <td>134</td>\n",
              "      <td>85</td>\n",
              "      <td>103</td>\n",
              "      <td>125</td>\n",
              "      <td>76</td>\n",
              "      <td>97</td>\n",
              "      <td>118</td>\n",
              "      <td>80</td>\n",
              "      <td>101</td>\n",
              "      <td>122</td>\n",
              "      <td>95</td>\n",
              "      <td>116</td>\n",
              "      <td>137</td>\n",
              "      <td>109</td>\n",
              "      <td>130</td>\n",
              "      <td>151</td>\n",
              "      <td>114</td>\n",
              "      <td>137</td>\n",
              "      <td>155</td>\n",
              "      <td>114</td>\n",
              "      <td>137</td>\n",
              "      <td>155</td>\n",
              "      <td>112</td>\n",
              "      <td>133</td>\n",
              "      <td>150</td>\n",
              "      <td>121</td>\n",
              "      <td>143</td>\n",
              "      <td>157</td>\n",
              "      <td>86</td>\n",
              "      <td>105</td>\n",
              "      <td>120</td>\n",
              "      <td>66</td>\n",
              "      <td>86</td>\n",
              "      <td>97</td>\n",
              "      <td>127</td>\n",
              "      <td>145</td>\n",
              "      <td>157</td>\n",
              "      <td>189</td>\n",
              "      <td>...</td>\n",
              "      <td>41</td>\n",
              "      <td>53</td>\n",
              "      <td>65</td>\n",
              "      <td>41</td>\n",
              "      <td>54</td>\n",
              "      <td>63</td>\n",
              "      <td>51</td>\n",
              "      <td>64</td>\n",
              "      <td>73</td>\n",
              "      <td>64</td>\n",
              "      <td>77</td>\n",
              "      <td>86</td>\n",
              "      <td>66</td>\n",
              "      <td>79</td>\n",
              "      <td>88</td>\n",
              "      <td>55</td>\n",
              "      <td>68</td>\n",
              "      <td>76</td>\n",
              "      <td>42</td>\n",
              "      <td>55</td>\n",
              "      <td>63</td>\n",
              "      <td>51</td>\n",
              "      <td>64</td>\n",
              "      <td>70</td>\n",
              "      <td>50</td>\n",
              "      <td>63</td>\n",
              "      <td>69</td>\n",
              "      <td>48</td>\n",
              "      <td>62</td>\n",
              "      <td>65</td>\n",
              "      <td>52</td>\n",
              "      <td>66</td>\n",
              "      <td>69</td>\n",
              "      <td>67</td>\n",
              "      <td>78</td>\n",
              "      <td>82</td>\n",
              "      <td>80</td>\n",
              "      <td>91</td>\n",
              "      <td>95</td>\n",
              "      <td>G80스포츠</td>\n",
              "    </tr>\n",
              "    <tr>\n",
              "      <th>3</th>\n",
              "      <td>80</td>\n",
              "      <td>88</td>\n",
              "      <td>90</td>\n",
              "      <td>68</td>\n",
              "      <td>76</td>\n",
              "      <td>78</td>\n",
              "      <td>79</td>\n",
              "      <td>83</td>\n",
              "      <td>84</td>\n",
              "      <td>122</td>\n",
              "      <td>126</td>\n",
              "      <td>125</td>\n",
              "      <td>178</td>\n",
              "      <td>178</td>\n",
              "      <td>178</td>\n",
              "      <td>211</td>\n",
              "      <td>211</td>\n",
              "      <td>209</td>\n",
              "      <td>221</td>\n",
              "      <td>217</td>\n",
              "      <td>214</td>\n",
              "      <td>216</td>\n",
              "      <td>213</td>\n",
              "      <td>208</td>\n",
              "      <td>223</td>\n",
              "      <td>218</td>\n",
              "      <td>214</td>\n",
              "      <td>213</td>\n",
              "      <td>208</td>\n",
              "      <td>202</td>\n",
              "      <td>204</td>\n",
              "      <td>201</td>\n",
              "      <td>194</td>\n",
              "      <td>205</td>\n",
              "      <td>202</td>\n",
              "      <td>195</td>\n",
              "      <td>208</td>\n",
              "      <td>208</td>\n",
              "      <td>200</td>\n",
              "      <td>209</td>\n",
              "      <td>...</td>\n",
              "      <td>53</td>\n",
              "      <td>64</td>\n",
              "      <td>84</td>\n",
              "      <td>54</td>\n",
              "      <td>65</td>\n",
              "      <td>85</td>\n",
              "      <td>52</td>\n",
              "      <td>64</td>\n",
              "      <td>80</td>\n",
              "      <td>55</td>\n",
              "      <td>67</td>\n",
              "      <td>81</td>\n",
              "      <td>66</td>\n",
              "      <td>79</td>\n",
              "      <td>88</td>\n",
              "      <td>77</td>\n",
              "      <td>90</td>\n",
              "      <td>99</td>\n",
              "      <td>84</td>\n",
              "      <td>97</td>\n",
              "      <td>105</td>\n",
              "      <td>64</td>\n",
              "      <td>77</td>\n",
              "      <td>83</td>\n",
              "      <td>63</td>\n",
              "      <td>76</td>\n",
              "      <td>82</td>\n",
              "      <td>63</td>\n",
              "      <td>76</td>\n",
              "      <td>84</td>\n",
              "      <td>84</td>\n",
              "      <td>97</td>\n",
              "      <td>105</td>\n",
              "      <td>82</td>\n",
              "      <td>92</td>\n",
              "      <td>102</td>\n",
              "      <td>104</td>\n",
              "      <td>114</td>\n",
              "      <td>124</td>\n",
              "      <td>G80스포츠</td>\n",
              "    </tr>\n",
              "    <tr>\n",
              "      <th>4</th>\n",
              "      <td>215</td>\n",
              "      <td>229</td>\n",
              "      <td>194</td>\n",
              "      <td>212</td>\n",
              "      <td>222</td>\n",
              "      <td>195</td>\n",
              "      <td>210</td>\n",
              "      <td>217</td>\n",
              "      <td>201</td>\n",
              "      <td>217</td>\n",
              "      <td>218</td>\n",
              "      <td>213</td>\n",
              "      <td>226</td>\n",
              "      <td>223</td>\n",
              "      <td>232</td>\n",
              "      <td>229</td>\n",
              "      <td>221</td>\n",
              "      <td>236</td>\n",
              "      <td>222</td>\n",
              "      <td>211</td>\n",
              "      <td>227</td>\n",
              "      <td>213</td>\n",
              "      <td>201</td>\n",
              "      <td>211</td>\n",
              "      <td>213</td>\n",
              "      <td>203</td>\n",
              "      <td>204</td>\n",
              "      <td>216</td>\n",
              "      <td>209</td>\n",
              "      <td>199</td>\n",
              "      <td>221</td>\n",
              "      <td>215</td>\n",
              "      <td>201</td>\n",
              "      <td>218</td>\n",
              "      <td>217</td>\n",
              "      <td>197</td>\n",
              "      <td>210</td>\n",
              "      <td>211</td>\n",
              "      <td>195</td>\n",
              "      <td>205</td>\n",
              "      <td>...</td>\n",
              "      <td>31</td>\n",
              "      <td>47</td>\n",
              "      <td>60</td>\n",
              "      <td>42</td>\n",
              "      <td>58</td>\n",
              "      <td>71</td>\n",
              "      <td>51</td>\n",
              "      <td>67</td>\n",
              "      <td>80</td>\n",
              "      <td>58</td>\n",
              "      <td>72</td>\n",
              "      <td>83</td>\n",
              "      <td>61</td>\n",
              "      <td>75</td>\n",
              "      <td>86</td>\n",
              "      <td>62</td>\n",
              "      <td>76</td>\n",
              "      <td>85</td>\n",
              "      <td>63</td>\n",
              "      <td>77</td>\n",
              "      <td>86</td>\n",
              "      <td>87</td>\n",
              "      <td>101</td>\n",
              "      <td>110</td>\n",
              "      <td>94</td>\n",
              "      <td>108</td>\n",
              "      <td>117</td>\n",
              "      <td>84</td>\n",
              "      <td>99</td>\n",
              "      <td>106</td>\n",
              "      <td>94</td>\n",
              "      <td>109</td>\n",
              "      <td>116</td>\n",
              "      <td>99</td>\n",
              "      <td>114</td>\n",
              "      <td>119</td>\n",
              "      <td>81</td>\n",
              "      <td>96</td>\n",
              "      <td>101</td>\n",
              "      <td>G80스포츠</td>\n",
              "    </tr>\n",
              "  </tbody>\n",
              "</table>\n",
              "<p>5 rows × 2701 columns</p>\n",
              "</div>"
            ],
            "text/plain": [
              "  0    1    2    3    4    5    6     ... 2694 2695 2696 2697 2698 2699    2700\n",
              "0  230  236  252  226  232  248  220  ...   37   35   36   55   54   52  G80스포츠\n",
              "1  235  238  243  251  254  255  251  ...   69   70   65  124  123  118  G80스포츠\n",
              "2   94  112  134   85  103  125   76  ...   67   78   82   80   91   95  G80스포츠\n",
              "3   80   88   90   68   76   78   79  ...   82   92  102  104  114  124  G80스포츠\n",
              "4  215  229  194  212  222  195  210  ...   99  114  119   81   96  101  G80스포츠\n",
              "\n",
              "[5 rows x 2701 columns]"
            ]
          },
          "metadata": {
            "tags": []
          },
          "execution_count": 4
        }
      ]
    },
    {
      "cell_type": "code",
      "metadata": {
        "colab": {
          "base_uri": "https://localhost:8080/"
        },
        "id": "SDnor_yCfc0I",
        "outputId": "d3d44c65-1dc3-4142-bd11-3a100eb1f2a7"
      },
      "source": [
        "# X와 y로 나누기\n",
        "# X는 한 픽셀을 Feature로 잡은 것 입니다.\n",
        "# y는 label입니다. \n",
        "X = train.iloc[:,:-1]\n",
        "y = train.iloc[:,-1]\n",
        "X.shape, y.shape"
      ],
      "execution_count": 8,
      "outputs": [
        {
          "output_type": "execute_result",
          "data": {
            "text/plain": [
              "((24916, 2700), (24916,))"
            ]
          },
          "metadata": {
            "tags": []
          },
          "execution_count": 8
        }
      ]
    },
    {
      "cell_type": "code",
      "metadata": {
        "id": "z64LJGZEaCDp"
      },
      "source": [
        "#### lightgbm 용 데이터 split #####\n"
      ],
      "execution_count": null,
      "outputs": []
    },
    {
      "cell_type": "code",
      "metadata": {
        "colab": {
          "base_uri": "https://localhost:8080/"
        },
        "id": "qi_AUAOTUd9Z",
        "outputId": "66a704ad-2503-425f-e0b0-6989ea2f13a0"
      },
      "source": [
        "from sklearn import preprocessing\n",
        "le = preprocessing.LabelEncoder()\n",
        "y = le.fit_transform(y)\n",
        "y\n",
        "\n",
        "\n",
        "# 텍스트 라벨을 숫자로 바꿔줌 0~33 의 숫자로 바꿔줌 "
      ],
      "execution_count": 9,
      "outputs": [
        {
          "output_type": "execute_result",
          "data": {
            "text/plain": [
              "array([ 0,  0,  0, ..., 33, 33, 33])"
            ]
          },
          "metadata": {
            "tags": []
          },
          "execution_count": 9
        }
      ]
    },
    {
      "cell_type": "code",
      "metadata": {
        "colab": {
          "base_uri": "https://localhost:8080/"
        },
        "id": "tBRfRSyyuL63",
        "outputId": "9f4c3a61-30fb-413e-b7b2-9932fd9ca4de"
      },
      "source": [
        "X = X.astype('int')\n",
        "from sklearn.model_selection import train_test_split\n",
        "X,X_del,y,y_del = train_test_split(X,y,test_size=0.5,random_state=1, stratify=y)\n",
        "X_train,X_test,y_train,y_test = train_test_split(X,y,test_size = 0.2, random_state=1,stratify=y)\n",
        "X_train,X_val,y_train,y_val = train_test_split(X_train,y_train,test_size = 0.2, random_state = 1, stratify = y_train)\n",
        "X_train.shape, X_test.shape, y_train.shape, y_test.shape\n",
        "\n",
        "# 데이터를 분리해줌 2:8로 // stratify = y :: y를 기준으로 균등하게 짤려줌 train과 test가 "
      ],
      "execution_count": 10,
      "outputs": [
        {
          "output_type": "execute_result",
          "data": {
            "text/plain": [
              "((7972, 2700), (2492, 2700), (7972,), (2492,))"
            ]
          },
          "metadata": {
            "tags": []
          },
          "execution_count": 10
        }
      ]
    },
    {
      "cell_type": "code",
      "metadata": {
        "id": "5lRwPRYLaygV"
      },
      "source": [
        ""
      ],
      "execution_count": 7,
      "outputs": []
    },
    {
      "cell_type": "code",
      "metadata": {
        "id": "fRNCrsE6bIJ6",
        "outputId": "428046b4-cbc5-4f5d-a891-713d4a415795",
        "colab": {
          "base_uri": "https://localhost:8080/"
        }
      },
      "source": [
        "X_train.dtypes"
      ],
      "execution_count": 11,
      "outputs": [
        {
          "output_type": "execute_result",
          "data": {
            "text/plain": [
              "0       int64\n",
              "1       int64\n",
              "2       int64\n",
              "3       int64\n",
              "4       int64\n",
              "        ...  \n",
              "2695    int64\n",
              "2696    int64\n",
              "2697    int64\n",
              "2698    int64\n",
              "2699    int64\n",
              "Length: 2700, dtype: object"
            ]
          },
          "metadata": {
            "tags": []
          },
          "execution_count": 11
        }
      ]
    },
    {
      "cell_type": "code",
      "metadata": {
        "id": "nX2w_je0bIHj"
      },
      "source": [
        ""
      ],
      "execution_count": null,
      "outputs": []
    },
    {
      "cell_type": "code",
      "metadata": {
        "id": "cQ0vnU84bIE0"
      },
      "source": [
        ""
      ],
      "execution_count": null,
      "outputs": []
    },
    {
      "cell_type": "code",
      "metadata": {
        "colab": {
          "base_uri": "https://localhost:8080/",
          "height": 316
        },
        "id": "F_EErXvmlUgd",
        "outputId": "3da09ece-ec5c-4975-ed14-f9a21041d43f"
      },
      "source": [
        "pd.DataFrame(y_train).hist()"
      ],
      "execution_count": 12,
      "outputs": [
        {
          "output_type": "execute_result",
          "data": {
            "text/plain": [
              "array([[<matplotlib.axes._subplots.AxesSubplot object at 0x7f556c82ba90>]],\n",
              "      dtype=object)"
            ]
          },
          "metadata": {
            "tags": []
          },
          "execution_count": 12
        },
        {
          "output_type": "display_data",
          "data": {
            "image/png": "[encoded data removed]",
            "text/plain": [
              "<Figure size 432x288 with 1 Axes>"
            ]
          },
          "metadata": {
            "tags": [],
            "needs_background": "light"
          }
        }
      ]
    },
    {
      "cell_type": "code",
      "metadata": {
        "colab": {
          "base_uri": "https://localhost:8080/",
          "height": 316
        },
        "id": "nXc8HJC5lGok",
        "outputId": "96f3b908-2833-4c34-9ab9-30ffb622cdc5"
      },
      "source": [
        "pd.DataFrame(y_test).hist()"
      ],
      "execution_count": 13,
      "outputs": [
        {
          "output_type": "execute_result",
          "data": {
            "text/plain": [
              "array([[<matplotlib.axes._subplots.AxesSubplot object at 0x7f556c71b1d0>]],\n",
              "      dtype=object)"
            ]
          },
          "metadata": {
            "tags": []
          },
          "execution_count": 13
        },
        {
          "output_type": "display_data",
          "data": {
            "image/png": "[encoded data removed]",
            "text/plain": [
              "<Figure size 432x288 with 1 Axes>"
            ]
          },
          "metadata": {
            "tags": [],
            "needs_background": "light"
          }
        }
      ]
    },
    {
      "cell_type": "code",
      "metadata": {
        "colab": {
          "base_uri": "https://localhost:8080/"
        },
        "id": "80upnJVDuswF",
        "outputId": "100bb65d-aeb8-49bd-da54-c28d9b21cbbc"
      },
      "source": [
        "# 베이스 코드 \n",
        "# 로지스틱 코드 (베이스코드) \n",
        "\n",
        "# 샘플 모델 3개 : Logistic Regression, SVC, Perceptron\n",
        "def RunModel(model, X_train, y_train, X_test, y_test):\n",
        "    clf = model.fit(X_train, y_train)\n",
        "    pred = model.predict(X_test)\n",
        "    return clf, pred\n",
        "\n",
        "lr = LogisticRegression()\n",
        "clf, y_pred = RunModel(lr, X_train, y_train, X_test, y_test)\n",
        "\n",
        "svc = SVC()\n",
        "clf_svc, y_pred_svc = RunModel(svc, X_train, y_train, X_test, y_test)\n",
        "\n",
        "perc = Perceptron(tol=1e-3, random_state=0)\n",
        "clf_perc, y_pred_perc = RunModel(perc, X_train, y_train, X_test, y_test)"
      ],
      "execution_count": null,
      "outputs": [
        {
          "output_type": "stream",
          "text": [
            "/usr/local/lib/python3.6/dist-packages/sklearn/linear_model/_logistic.py:940: ConvergenceWarning: lbfgs failed to converge (status=1):\n",
            "STOP: TOTAL NO. of ITERATIONS REACHED LIMIT.\n",
            "\n",
            "Increase the number of iterations (max_iter) or scale the data as shown in:\n",
            "    https://scikit-learn.org/stable/modules/preprocessing.html\n",
            "Please also refer to the documentation for alternative solver options:\n",
            "    https://scikit-learn.org/stable/modules/linear_model.html#logistic-regression\n",
            "  extra_warning_msg=_LOGISTIC_SOLVER_CONVERGENCE_MSG)\n"
          ],
          "name": "stderr"
        }
      ]
    },
    {
      "cell_type": "code",
      "metadata": {
        "id": "3HMaWF3cTm0I"
      },
      "source": [
        "# lightgbm 데이터셋으로 변환 \n",
        "import lightgbm as lgb\n",
        "from lightgbm import LGBMRegressor\n",
        "train_ds = lgb.Dataset(X_train, label = y_train) \n",
        "val_ds = lgb.Dataset(X_val, label = y_val)\n",
        "test_ds = lgb.Dataset(X_test, label = y_test) "
      ],
      "execution_count": 9,
      "outputs": []
    },
    {
      "cell_type": "code",
      "metadata": {
        "id": "oBG4RtD1Tm5y",
        "outputId": "dfe6b333-38c0-42d1-8fab-ae265cd44412",
        "colab": {
          "base_uri": "https://localhost:8080/",
          "height": 382
        }
      },
      "source": [
        "best_score = 0\n",
        "for max_depth_list in [10,30,50]:\n",
        "    for learning_rate_list in [0.05,0.01,0.1]:\n",
        "        for num_leaves_list in [50,100,150]:\n",
        "            #for subsamples_list in [0.6,0.8]:\n",
        "                for booster_type in ['gbdt']:\n",
        "                    lgbm_reg = LGBMClassifier(n_estimators=400,  # 크면 과적합 / 클수록 train 적합 굿 \n",
        "                                             booster = booster_type,\n",
        "                                             learning_rate = learning_rate_list ,  # 작을수록 과적합 하려고 한다. \n",
        "                                             max_depth =  max_depth_list,    # 클수록 과적합 \n",
        "                                             num_leaves = num_leaves_list,   # 클수록 과적합 \n",
        "                                             objective = 'multiclass',\n",
        "                                          #   subsamples = subsamples_list,\n",
        "                                             silent = True,\n",
        "                                             num_class = 34)\n",
        "dd\n",
        "                    lgbm_reg.fit(X_train, y_train)\n",
        "                    predict_lgbm = lgbm_reg.predict(X_val).flatten()\n",
        "                    test_accuracy = metrics.accuracy_score(y_val, predict_lgbm)  # \n",
        "                    if test_accuracy > best_score:\n",
        "                              best_score = test_accuracy\n",
        "                              best_hyperparameters = {'max_depth' : max_depth_list,\n",
        "                                                    'learning_rate' : learning_rate_list,\n",
        "                                                    'num_leaves' : num_leaves_list,\n",
        "                                                   # 'subsamples' : subsamples_list,\n",
        "                                                   # 'booster' : booster_type,\n",
        "                                                    'test_accuracy' : test_accuracy}\n"
      ],
      "execution_count": 17,
      "outputs": [
        {
          "output_type": "error",
          "ename": "KeyboardInterrupt",
          "evalue": "ignored",
          "traceback": [
            "\u001b[0;31m---------------------------------------------------------------------------\u001b[0m",
            "\u001b[0;31mKeyboardInterrupt\u001b[0m                         Traceback (most recent call last)",
            "\u001b[0;32m<ipython-input-17-daf0aa1401d5>\u001b[0m in \u001b[0;36m<module>\u001b[0;34m()\u001b[0m\n\u001b[1;32m     15\u001b[0m                                              num_class = 34)\n\u001b[1;32m     16\u001b[0m \u001b[0;34m\u001b[0m\u001b[0m\n\u001b[0;32m---> 17\u001b[0;31m                     \u001b[0mlgbm_reg\u001b[0m\u001b[0;34m.\u001b[0m\u001b[0mfit\u001b[0m\u001b[0;34m(\u001b[0m\u001b[0mX_train\u001b[0m\u001b[0;34m,\u001b[0m \u001b[0my_train\u001b[0m\u001b[0;34m)\u001b[0m\u001b[0;34m\u001b[0m\u001b[0;34m\u001b[0m\u001b[0m\n\u001b[0m\u001b[1;32m     18\u001b[0m                     \u001b[0mpredict_lgbm\u001b[0m \u001b[0;34m=\u001b[0m \u001b[0mlgbm_reg\u001b[0m\u001b[0;34m.\u001b[0m\u001b[0mpredict\u001b[0m\u001b[0;34m(\u001b[0m\u001b[0mX_val\u001b[0m\u001b[0;34m)\u001b[0m\u001b[0;34m.\u001b[0m\u001b[0mflatten\u001b[0m\u001b[0;34m(\u001b[0m\u001b[0;34m)\u001b[0m\u001b[0;34m\u001b[0m\u001b[0;34m\u001b[0m\u001b[0m\n\u001b[1;32m     19\u001b[0m                     \u001b[0mtest_accuracy\u001b[0m \u001b[0;34m=\u001b[0m \u001b[0mmetrics\u001b[0m\u001b[0;34m.\u001b[0m\u001b[0maccuracy_score\u001b[0m\u001b[0;34m(\u001b[0m\u001b[0my_val\u001b[0m\u001b[0;34m,\u001b[0m \u001b[0mpredict_lgbm\u001b[0m\u001b[0;34m)\u001b[0m  \u001b[0;31m#\u001b[0m\u001b[0;34m\u001b[0m\u001b[0;34m\u001b[0m\u001b[0m\n",
            "\u001b[0;32m/usr/local/lib/python3.6/dist-packages/lightgbm/sklearn.py\u001b[0m in \u001b[0;36mfit\u001b[0;34m(self, X, y, sample_weight, init_score, eval_set, eval_names, eval_sample_weight, eval_class_weight, eval_init_score, eval_metric, early_stopping_rounds, verbose, feature_name, categorical_feature, callbacks)\u001b[0m\n\u001b[1;32m    742\u001b[0m                                         \u001b[0mverbose\u001b[0m\u001b[0;34m=\u001b[0m\u001b[0mverbose\u001b[0m\u001b[0;34m,\u001b[0m \u001b[0mfeature_name\u001b[0m\u001b[0;34m=\u001b[0m\u001b[0mfeature_name\u001b[0m\u001b[0;34m,\u001b[0m\u001b[0;34m\u001b[0m\u001b[0;34m\u001b[0m\u001b[0m\n\u001b[1;32m    743\u001b[0m                                         \u001b[0mcategorical_feature\u001b[0m\u001b[0;34m=\u001b[0m\u001b[0mcategorical_feature\u001b[0m\u001b[0;34m,\u001b[0m\u001b[0;34m\u001b[0m\u001b[0;34m\u001b[0m\u001b[0m\n\u001b[0;32m--> 744\u001b[0;31m                                         callbacks=callbacks)\n\u001b[0m\u001b[1;32m    745\u001b[0m         \u001b[0;32mreturn\u001b[0m \u001b[0mself\u001b[0m\u001b[0;34m\u001b[0m\u001b[0;34m\u001b[0m\u001b[0m\n\u001b[1;32m    746\u001b[0m \u001b[0;34m\u001b[0m\u001b[0m\n",
            "\u001b[0;32m/usr/local/lib/python3.6/dist-packages/lightgbm/sklearn.py\u001b[0m in \u001b[0;36mfit\u001b[0;34m(self, X, y, sample_weight, init_score, group, eval_set, eval_names, eval_sample_weight, eval_class_weight, eval_init_score, eval_group, eval_metric, early_stopping_rounds, verbose, feature_name, categorical_feature, callbacks)\u001b[0m\n\u001b[1;32m    542\u001b[0m                               \u001b[0mverbose_eval\u001b[0m\u001b[0;34m=\u001b[0m\u001b[0mverbose\u001b[0m\u001b[0;34m,\u001b[0m \u001b[0mfeature_name\u001b[0m\u001b[0;34m=\u001b[0m\u001b[0mfeature_name\u001b[0m\u001b[0;34m,\u001b[0m\u001b[0;34m\u001b[0m\u001b[0;34m\u001b[0m\u001b[0m\n\u001b[1;32m    543\u001b[0m                               \u001b[0mcategorical_feature\u001b[0m\u001b[0;34m=\u001b[0m\u001b[0mcategorical_feature\u001b[0m\u001b[0;34m,\u001b[0m\u001b[0;34m\u001b[0m\u001b[0;34m\u001b[0m\u001b[0m\n\u001b[0;32m--> 544\u001b[0;31m                               callbacks=callbacks)\n\u001b[0m\u001b[1;32m    545\u001b[0m \u001b[0;34m\u001b[0m\u001b[0m\n\u001b[1;32m    546\u001b[0m         \u001b[0;32mif\u001b[0m \u001b[0mevals_result\u001b[0m\u001b[0;34m:\u001b[0m\u001b[0;34m\u001b[0m\u001b[0;34m\u001b[0m\u001b[0m\n",
            "\u001b[0;32m/usr/local/lib/python3.6/dist-packages/lightgbm/engine.py\u001b[0m in \u001b[0;36mtrain\u001b[0;34m(params, train_set, num_boost_round, valid_sets, valid_names, fobj, feval, init_model, feature_name, categorical_feature, early_stopping_rounds, evals_result, verbose_eval, learning_rates, keep_training_booster, callbacks)\u001b[0m\n\u001b[1;32m    216\u001b[0m                                     evaluation_result_list=None))\n\u001b[1;32m    217\u001b[0m \u001b[0;34m\u001b[0m\u001b[0m\n\u001b[0;32m--> 218\u001b[0;31m         \u001b[0mbooster\u001b[0m\u001b[0;34m.\u001b[0m\u001b[0mupdate\u001b[0m\u001b[0;34m(\u001b[0m\u001b[0mfobj\u001b[0m\u001b[0;34m=\u001b[0m\u001b[0mfobj\u001b[0m\u001b[0;34m)\u001b[0m\u001b[0;34m\u001b[0m\u001b[0;34m\u001b[0m\u001b[0m\n\u001b[0m\u001b[1;32m    219\u001b[0m \u001b[0;34m\u001b[0m\u001b[0m\n\u001b[1;32m    220\u001b[0m         \u001b[0mevaluation_result_list\u001b[0m \u001b[0;34m=\u001b[0m \u001b[0;34m[\u001b[0m\u001b[0;34m]\u001b[0m\u001b[0;34m\u001b[0m\u001b[0;34m\u001b[0m\u001b[0m\n",
            "\u001b[0;32m/usr/local/lib/python3.6/dist-packages/lightgbm/basic.py\u001b[0m in \u001b[0;36mupdate\u001b[0;34m(self, train_set, fobj)\u001b[0m\n\u001b[1;32m   1800\u001b[0m             _safe_call(_LIB.LGBM_BoosterUpdateOneIter(\n\u001b[1;32m   1801\u001b[0m                 \u001b[0mself\u001b[0m\u001b[0;34m.\u001b[0m\u001b[0mhandle\u001b[0m\u001b[0;34m,\u001b[0m\u001b[0;34m\u001b[0m\u001b[0;34m\u001b[0m\u001b[0m\n\u001b[0;32m-> 1802\u001b[0;31m                 ctypes.byref(is_finished)))\n\u001b[0m\u001b[1;32m   1803\u001b[0m             \u001b[0mself\u001b[0m\u001b[0;34m.\u001b[0m\u001b[0m__is_predicted_cur_iter\u001b[0m \u001b[0;34m=\u001b[0m \u001b[0;34m[\u001b[0m\u001b[0;32mFalse\u001b[0m \u001b[0;32mfor\u001b[0m \u001b[0m_\u001b[0m \u001b[0;32min\u001b[0m \u001b[0mrange_\u001b[0m\u001b[0;34m(\u001b[0m\u001b[0mself\u001b[0m\u001b[0;34m.\u001b[0m\u001b[0m__num_dataset\u001b[0m\u001b[0;34m)\u001b[0m\u001b[0;34m]\u001b[0m\u001b[0;34m\u001b[0m\u001b[0;34m\u001b[0m\u001b[0m\n\u001b[1;32m   1804\u001b[0m             \u001b[0;32mreturn\u001b[0m \u001b[0mis_finished\u001b[0m\u001b[0;34m.\u001b[0m\u001b[0mvalue\u001b[0m \u001b[0;34m==\u001b[0m \u001b[0;36m1\u001b[0m\u001b[0;34m\u001b[0m\u001b[0;34m\u001b[0m\u001b[0m\n",
            "\u001b[0;31mKeyboardInterrupt\u001b[0m: "
          ]
        }
      ]
    },
    {
      "cell_type": "code",
      "metadata": {
        "id": "dnJ9frOaTmxR",
        "outputId": "00120fc7-de74-4ab7-d986-e8c3795549a6",
        "colab": {
          "base_uri": "https://localhost:8080/"
        }
      },
      "source": [
        "# print(\"최적파라미터 ㅣ \", best_hyperparameters)\n",
        "lgbm_reg = LGBMClassifier(n_estimators=50,  \n",
        "                         booster = 'gbdt',\n",
        "                         feature_fraction = 0.8 ,\n",
        "                         learning_rate = 0.05 ,  \n",
        "                         subsamples = 0.6 ,\n",
        "                         max_depth =  10 ,    \n",
        "                         objective = 'multiclass',\n",
        "                         silent = True,\n",
        "                         random_state = 123,\n",
        "                          num_class = 34)\n",
        "lgbm_reg.fit(X_train, y_train)"
      ],
      "execution_count": 20,
      "outputs": [
        {
          "output_type": "execute_result",
          "data": {
            "text/plain": [
              "LGBMClassifier(booster='gbdt', boosting_type='gbdt', class_weight=None,\n",
              "               colsample_bytree=1.0, feature_fraction=0.8,\n",
              "               importance_type='split', learning_rate=0.05, max_depth=10,\n",
              "               min_child_samples=20, min_child_weight=0.001, min_split_gain=0.0,\n",
              "               n_estimators=50, n_jobs=-1, num_class=34, num_leaves=31,\n",
              "               objective='multiclass', random_state=123, reg_alpha=0.0,\n",
              "               reg_lambda=0.0, silent=True, subsample=1.0,\n",
              "               subsample_for_bin=200000, subsample_freq=0, subsamples=0.6)"
            ]
          },
          "metadata": {
            "tags": []
          },
          "execution_count": 20
        }
      ]
    },
    {
      "cell_type": "code",
      "metadata": {
        "id": "hNvENEDJT6tA"
      },
      "source": [
        "predict_lgbm = lgbm_reg.predict(X_val).flatten()\n",
        "test_accuracy = metrics.accuracy_score(y_val, predict_lgbm) "
      ],
      "execution_count": 23,
      "outputs": []
    },
    {
      "cell_type": "code",
      "metadata": {
        "id": "rruQMBVdwdLO",
        "outputId": "62e2ea61-6ed5-47a4-967e-d794d60cd8f9",
        "colab": {
          "base_uri": "https://localhost:8080/"
        }
      },
      "source": [
        "test_accuracy"
      ],
      "execution_count": 24,
      "outputs": [
        {
          "output_type": "execute_result",
          "data": {
            "text/plain": [
              "0.31344032096288865"
            ]
          },
          "metadata": {
            "tags": []
          },
          "execution_count": 24
        }
      ]
    },
    {
      "cell_type": "code",
      "metadata": {
        "id": "ZPzeQkPMT6zm"
      },
      "source": [
        "from lightgbm import LGBMClassifier\n",
        "from sklearn import metrics"
      ],
      "execution_count": 15,
      "outputs": []
    },
    {
      "cell_type": "code",
      "metadata": {
        "colab": {
          "base_uri": "https://localhost:8080/",
          "height": 318
        },
        "id": "WLX8YNsST0-0",
        "outputId": "b6a8a7d2-8d92-4b42-8199-cc9d5dce0063"
      },
      "source": [
        "import random\n",
        "t = random.randint(0, len(X_val)-1)\n",
        "print(\"정답:\", le.inverse_transform([predict_lgbm[100]]))\n",
        "print(\"모델 결과:\", le.inverse_transform([y_val[100]]))\n",
        "plt.imshow(X_val.iloc[0].values.astype(np.int).reshape(30,30,3)) # (32,32,3)으로 변환"
      ],
      "execution_count": 34,
      "outputs": [
        {
          "output_type": "stream",
          "text": [
            "정답: ['투싼']\n",
            "모델 결과: ['팰리세이드']\n"
          ],
          "name": "stdout"
        },
        {
          "output_type": "execute_result",
          "data": {
            "text/plain": [
              "<matplotlib.image.AxesImage at 0x7f556aed2828>"
            ]
          },
          "metadata": {
            "tags": []
          },
          "execution_count": 34
        },
        {
          "output_type": "display_data",
          "data": {
            "image/png": "[encoded data removed]",
            "text/plain": [
              "<Figure size 432x288 with 1 Axes>"
            ]
          },
          "metadata": {
            "tags": [],
            "needs_background": "light"
          }
        }
      ]
    },
    {
      "cell_type": "code",
      "metadata": {
        "id": "aBrUPcs1mRMR",
        "outputId": "f159899f-d798-4f43-eb93-110a61728243",
        "colab": {
          "base_uri": "https://localhost:8080/",
          "height": 482
        }
      },
      "source": [
        "plt.rcParams['figure.figsize'] = [20, 8]\n",
        "\n",
        "sample_range = 20\n",
        "idx_start = 50\n",
        "ground_truth = y_val[idx_start:idx_start+sample_range]\n",
        "predicted = predict_lgbm[idx_start:idx_start+sample_range]\n",
        "plt.plot(ground_truth)\n",
        "plt.plot(predicted)\n",
        "plt.legend(['ground truth', 'predicted'])\n",
        "plt.show()"
      ],
      "execution_count": 40,
      "outputs": [
        {
          "output_type": "display_data",
          "data": {
            "image/png": "[encoded data removed]",
            "text/plain": [
              "<Figure size 1440x576 with 1 Axes>"
            ]
          },
          "metadata": {
            "tags": [],
            "needs_background": "light"
          }
        }
      ]
    },
    {
      "cell_type": "code",
      "metadata": {
        "id": "hqjHPMSSzlFR",
        "outputId": "c0697042-a8ba-4125-8e2c-f700311fa8b1",
        "colab": {
          "base_uri": "https://localhost:8080/"
        }
      },
      "source": [
        "ground_truth"
      ],
      "execution_count": 37,
      "outputs": [
        {
          "output_type": "execute_result",
          "data": {
            "text/plain": [
              "array([], dtype=int64)"
            ]
          },
          "metadata": {
            "tags": []
          },
          "execution_count": 37
        }
      ]
    },
    {
      "cell_type": "code",
      "metadata": {
        "id": "UTkEfNy2zqd7"
      },
      "source": [
        ""
      ],
      "execution_count": null,
      "outputs": []
    }
  ]
}