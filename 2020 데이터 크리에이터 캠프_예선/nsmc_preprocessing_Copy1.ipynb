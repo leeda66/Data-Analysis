{
  "nbformat": 4,
  "nbformat_minor": 0,
  "metadata": {
    "colab": {
      "name": "nsmc_preprocessing-Copy1.ipynb",
      "provenance": [],
      "collapsed_sections": [],
      "toc_visible": true
    },
    "kernelspec": {
      "display_name": "Python 3",
      "language": "python",
      "name": "python3"
    },
    "language_info": {
      "codemirror_mode": {
        "name": "ipython",
        "version": 3
      },
      "file_extension": ".py",
      "mimetype": "text/x-python",
      "name": "python",
      "nbconvert_exporter": "python",
      "pygments_lexer": "ipython3",
      "version": "3.7.6"
    }
  },
  "cells": [
    {
      "cell_type": "markdown",
      "metadata": {
        "id": "BOquIqGPgxc8"
      },
      "source": [
        "# Colab"
      ]
    },
    {
      "cell_type": "code",
      "metadata": {
        "colab": {
          "base_uri": "https://localhost:8080/"
        },
        "id": "_zr0rJmJgxc9",
        "outputId": "05b59174-2144-414c-a6bd-d38374a83b62"
      },
      "source": [
        "from google.colab import auth, drive\n",
        "\n",
        "auth.authenticate_user()\n",
        "drive.mount('/content/gdrive/')"
      ],
      "execution_count": null,
      "outputs": [
        {
          "output_type": "stream",
          "text": [
            "Mounted at /content/gdrive/\n"
          ],
          "name": "stdout"
        }
      ]
    },
    {
      "cell_type": "code",
      "metadata": {
        "colab": {
          "base_uri": "https://localhost:8080/"
        },
        "id": "-f1qvHD9gxdA",
        "outputId": "889e8631-29d8-4284-c40a-d065640061a6"
      },
      "source": [
        "!pip install pandas\n",
        "!pip install seaborn\n",
        "!pip install matplotlib\n",
        "!pip install konlpy"
      ],
      "execution_count": null,
      "outputs": [
        {
          "output_type": "stream",
          "text": [
            "Requirement already satisfied: pandas in /usr/local/lib/python3.6/dist-packages (1.1.4)\n",
            "Requirement already satisfied: python-dateutil>=2.7.3 in /usr/local/lib/python3.6/dist-packages (from pandas) (2.8.1)\n",
            "Requirement already satisfied: pytz>=2017.2 in /usr/local/lib/python3.6/dist-packages (from pandas) (2018.9)\n",
            "Requirement already satisfied: numpy>=1.15.4 in /usr/local/lib/python3.6/dist-packages (from pandas) (1.18.5)\n",
            "Requirement already satisfied: six>=1.5 in /usr/local/lib/python3.6/dist-packages (from python-dateutil>=2.7.3->pandas) (1.15.0)\n",
            "Requirement already satisfied: seaborn in /usr/local/lib/python3.6/dist-packages (0.11.0)\n",
            "Requirement already satisfied: pandas>=0.23 in /usr/local/lib/python3.6/dist-packages (from seaborn) (1.1.4)\n",
            "Requirement already satisfied: matplotlib>=2.2 in /usr/local/lib/python3.6/dist-packages (from seaborn) (3.2.2)\n",
            "Requirement already satisfied: scipy>=1.0 in /usr/local/lib/python3.6/dist-packages (from seaborn) (1.4.1)\n",
            "Requirement already satisfied: numpy>=1.15 in /usr/local/lib/python3.6/dist-packages (from seaborn) (1.18.5)\n",
            "Requirement already satisfied: pytz>=2017.2 in /usr/local/lib/python3.6/dist-packages (from pandas>=0.23->seaborn) (2018.9)\n",
            "Requirement already satisfied: python-dateutil>=2.7.3 in /usr/local/lib/python3.6/dist-packages (from pandas>=0.23->seaborn) (2.8.1)\n",
            "Requirement already satisfied: kiwisolver>=1.0.1 in /usr/local/lib/python3.6/dist-packages (from matplotlib>=2.2->seaborn) (1.3.1)\n",
            "Requirement already satisfied: cycler>=0.10 in /usr/local/lib/python3.6/dist-packages (from matplotlib>=2.2->seaborn) (0.10.0)\n",
            "Requirement already satisfied: pyparsing!=2.0.4,!=2.1.2,!=2.1.6,>=2.0.1 in /usr/local/lib/python3.6/dist-packages (from matplotlib>=2.2->seaborn) (2.4.7)\n",
            "Requirement already satisfied: six>=1.5 in /usr/local/lib/python3.6/dist-packages (from python-dateutil>=2.7.3->pandas>=0.23->seaborn) (1.15.0)\n",
            "Requirement already satisfied: matplotlib in /usr/local/lib/python3.6/dist-packages (3.2.2)\n",
            "Requirement already satisfied: cycler>=0.10 in /usr/local/lib/python3.6/dist-packages (from matplotlib) (0.10.0)\n",
            "Requirement already satisfied: pyparsing!=2.0.4,!=2.1.2,!=2.1.6,>=2.0.1 in /usr/local/lib/python3.6/dist-packages (from matplotlib) (2.4.7)\n",
            "Requirement already satisfied: numpy>=1.11 in /usr/local/lib/python3.6/dist-packages (from matplotlib) (1.18.5)\n",
            "Requirement already satisfied: kiwisolver>=1.0.1 in /usr/local/lib/python3.6/dist-packages (from matplotlib) (1.3.1)\n",
            "Requirement already satisfied: python-dateutil>=2.1 in /usr/local/lib/python3.6/dist-packages (from matplotlib) (2.8.1)\n",
            "Requirement already satisfied: six in /usr/local/lib/python3.6/dist-packages (from cycler>=0.10->matplotlib) (1.15.0)\n",
            "Collecting konlpy\n",
            "\u001b[?25l  Downloading https://files.pythonhosted.org/packages/85/0e/f385566fec837c0b83f216b2da65db9997b35dd675e107752005b7d392b1/konlpy-0.5.2-py2.py3-none-any.whl (19.4MB)\n",
            "\u001b[K     |████████████████████████████████| 19.4MB 1.3MB/s \n",
            "\u001b[?25hCollecting colorama\n",
            "  Downloading https://files.pythonhosted.org/packages/44/98/5b86278fbbf250d239ae0ecb724f8572af1c91f4a11edf4d36a206189440/colorama-0.4.4-py2.py3-none-any.whl\n",
            "Collecting JPype1>=0.7.0\n",
            "\u001b[?25l  Downloading https://files.pythonhosted.org/packages/fd/96/1030895dea70855a2e1078e3fe0d6a63dcb7c212309e07dc9ee39d33af54/JPype1-1.1.2-cp36-cp36m-manylinux2010_x86_64.whl (450kB)\n",
            "\u001b[K     |████████████████████████████████| 460kB 44.7MB/s \n",
            "\u001b[?25hCollecting beautifulsoup4==4.6.0\n",
            "\u001b[?25l  Downloading https://files.pythonhosted.org/packages/9e/d4/10f46e5cfac773e22707237bfcd51bbffeaf0a576b0a847ec7ab15bd7ace/beautifulsoup4-4.6.0-py3-none-any.whl (86kB)\n",
            "\u001b[K     |████████████████████████████████| 92kB 9.6MB/s \n",
            "\u001b[?25hRequirement already satisfied: numpy>=1.6 in /usr/local/lib/python3.6/dist-packages (from konlpy) (1.18.5)\n",
            "Requirement already satisfied: lxml>=4.1.0 in /usr/local/lib/python3.6/dist-packages (from konlpy) (4.2.6)\n",
            "Collecting tweepy>=3.7.0\n",
            "  Downloading https://files.pythonhosted.org/packages/bb/7c/99d51f80f3b77b107ebae2634108717362c059a41384a1810d13e2429a81/tweepy-3.9.0-py2.py3-none-any.whl\n",
            "Requirement already satisfied: typing-extensions; python_version < \"3.8\" in /usr/local/lib/python3.6/dist-packages (from JPype1>=0.7.0->konlpy) (3.7.4.3)\n",
            "Requirement already satisfied: requests-oauthlib>=0.7.0 in /usr/local/lib/python3.6/dist-packages (from tweepy>=3.7.0->konlpy) (1.3.0)\n",
            "Requirement already satisfied: requests[socks]>=2.11.1 in /usr/local/lib/python3.6/dist-packages (from tweepy>=3.7.0->konlpy) (2.23.0)\n",
            "Requirement already satisfied: six>=1.10.0 in /usr/local/lib/python3.6/dist-packages (from tweepy>=3.7.0->konlpy) (1.15.0)\n",
            "Requirement already satisfied: oauthlib>=3.0.0 in /usr/local/lib/python3.6/dist-packages (from requests-oauthlib>=0.7.0->tweepy>=3.7.0->konlpy) (3.1.0)\n",
            "Requirement already satisfied: urllib3!=1.25.0,!=1.25.1,<1.26,>=1.21.1 in /usr/local/lib/python3.6/dist-packages (from requests[socks]>=2.11.1->tweepy>=3.7.0->konlpy) (1.24.3)\n",
            "Requirement already satisfied: chardet<4,>=3.0.2 in /usr/local/lib/python3.6/dist-packages (from requests[socks]>=2.11.1->tweepy>=3.7.0->konlpy) (3.0.4)\n",
            "Requirement already satisfied: certifi>=2017.4.17 in /usr/local/lib/python3.6/dist-packages (from requests[socks]>=2.11.1->tweepy>=3.7.0->konlpy) (2020.6.20)\n",
            "Requirement already satisfied: idna<3,>=2.5 in /usr/local/lib/python3.6/dist-packages (from requests[socks]>=2.11.1->tweepy>=3.7.0->konlpy) (2.10)\n",
            "Requirement already satisfied: PySocks!=1.5.7,>=1.5.6; extra == \"socks\" in /usr/local/lib/python3.6/dist-packages (from requests[socks]>=2.11.1->tweepy>=3.7.0->konlpy) (1.7.1)\n",
            "Installing collected packages: colorama, JPype1, beautifulsoup4, tweepy, konlpy\n",
            "  Found existing installation: beautifulsoup4 4.6.3\n",
            "    Uninstalling beautifulsoup4-4.6.3:\n",
            "      Successfully uninstalled beautifulsoup4-4.6.3\n",
            "  Found existing installation: tweepy 3.6.0\n",
            "    Uninstalling tweepy-3.6.0:\n",
            "      Successfully uninstalled tweepy-3.6.0\n",
            "Successfully installed JPype1-1.1.2 beautifulsoup4-4.6.0 colorama-0.4.4 konlpy-0.5.2 tweepy-3.9.0\n"
          ],
          "name": "stdout"
        }
      ]
    },
    {
      "cell_type": "markdown",
      "metadata": {
        "id": "VjkMDEh7gxdC"
      },
      "source": [
        "# NSMC : Naver Sentiment Movie Corpus (네이버 영화 리뷰 데이터)\n",
        "네이버에서 제공하는 200,000 개의 영화 리뷰 데이터\n",
        "- 긍정 리뷰 : 영화 평점 9점 이상\n",
        "- 부정 리뷰 : 영화 평점 4점 이하\n",
        "- 5-8점의 영화 리뷰들은 제외됨\n",
        "- 출처 : https://github.com/e9t/nsmc"
      ]
    },
    {
      "cell_type": "markdown",
      "metadata": {
        "id": "8_YCMFd4gxdC"
      },
      "source": [
        "# 모듈 불러오기"
      ]
    },
    {
      "cell_type": "code",
      "metadata": {
        "id": "kscZEd5AgxdD"
      },
      "source": [
        "import pandas as pd\n",
        "import matplotlib.pyplot as plt\n",
        "import seaborn as sns\n",
        "\n",
        "from konlpy.tag import Okt, Komoran, Kkma"
      ],
      "execution_count": null,
      "outputs": []
    },
    {
      "cell_type": "markdown",
      "metadata": {
        "id": "-SA9OkOkgxdE"
      },
      "source": [
        "# 데이터 불러오기"
      ]
    },
    {
      "cell_type": "code",
      "metadata": {
        "id": "-6KgZy9VgxdF"
      },
      "source": [
        "data = pd.read_csv(\"gdrive/My Drive/data/ratings.txt\", sep = \"\\t\") # 데이터 불러오기"
      ],
      "execution_count": null,
      "outputs": []
    },
    {
      "cell_type": "markdown",
      "metadata": {
        "id": "4htDSgqAgxdH"
      },
      "source": [
        "# 데이터 확인하기"
      ]
    },
    {
      "cell_type": "code",
      "metadata": {
        "colab": {
          "base_uri": "https://localhost:8080/",
          "height": 343
        },
        "id": "MqaSreKUgxdH",
        "outputId": "4d0d3138-fc53-488c-a49a-ec5704e8119a"
      },
      "source": [
        "data.head(10)\n",
        "# id : 네이버 영화 리뷰의 식별번호\n",
        "# document : 네이버 영화 리뷰 내용\n",
        "# label : 긍정, 부정 레이블 (긍정 : 1, 부정 : 0)"
      ],
      "execution_count": null,
      "outputs": [
        {
          "output_type": "execute_result",
          "data": {
            "text/html": [
              "<div>\n",
              "<style scoped>\n",
              "    .dataframe tbody tr th:only-of-type {\n",
              "        vertical-align: middle;\n",
              "    }\n",
              "\n",
              "    .dataframe tbody tr th {\n",
              "        vertical-align: top;\n",
              "    }\n",
              "\n",
              "    .dataframe thead th {\n",
              "        text-align: right;\n",
              "    }\n",
              "</style>\n",
              "<table border=\"1\" class=\"dataframe\">\n",
              "  <thead>\n",
              "    <tr style=\"text-align: right;\">\n",
              "      <th></th>\n",
              "      <th>id</th>\n",
              "      <th>document</th>\n",
              "      <th>label</th>\n",
              "    </tr>\n",
              "  </thead>\n",
              "  <tbody>\n",
              "    <tr>\n",
              "      <th>0</th>\n",
              "      <td>8112052</td>\n",
              "      <td>어릴때보고 지금다시봐도 재밌어요ㅋㅋ</td>\n",
              "      <td>1</td>\n",
              "    </tr>\n",
              "    <tr>\n",
              "      <th>1</th>\n",
              "      <td>8132799</td>\n",
              "      <td>디자인을 배우는 학생으로, 외국디자이너와 그들이 일군 전통을 통해 발전해가는 문화산...</td>\n",
              "      <td>1</td>\n",
              "    </tr>\n",
              "    <tr>\n",
              "      <th>2</th>\n",
              "      <td>4655635</td>\n",
              "      <td>폴리스스토리 시리즈는 1부터 뉴까지 버릴께 하나도 없음.. 최고.</td>\n",
              "      <td>1</td>\n",
              "    </tr>\n",
              "    <tr>\n",
              "      <th>3</th>\n",
              "      <td>9251303</td>\n",
              "      <td>와.. 연기가 진짜 개쩔구나.. 지루할거라고 생각했는데 몰입해서 봤다.. 그래 이런...</td>\n",
              "      <td>1</td>\n",
              "    </tr>\n",
              "    <tr>\n",
              "      <th>4</th>\n",
              "      <td>10067386</td>\n",
              "      <td>안개 자욱한 밤하늘에 떠 있는 초승달 같은 영화.</td>\n",
              "      <td>1</td>\n",
              "    </tr>\n",
              "    <tr>\n",
              "      <th>5</th>\n",
              "      <td>2190435</td>\n",
              "      <td>사랑을 해본사람이라면 처음부터 끝까지 웃을수 있는영화</td>\n",
              "      <td>1</td>\n",
              "    </tr>\n",
              "    <tr>\n",
              "      <th>6</th>\n",
              "      <td>9279041</td>\n",
              "      <td>완전 감동입니다 다시봐도 감동</td>\n",
              "      <td>1</td>\n",
              "    </tr>\n",
              "    <tr>\n",
              "      <th>7</th>\n",
              "      <td>7865729</td>\n",
              "      <td>개들의 전쟁2 나오나요? 나오면 1빠로 보고 싶음</td>\n",
              "      <td>1</td>\n",
              "    </tr>\n",
              "    <tr>\n",
              "      <th>8</th>\n",
              "      <td>7477618</td>\n",
              "      <td>굿</td>\n",
              "      <td>1</td>\n",
              "    </tr>\n",
              "    <tr>\n",
              "      <th>9</th>\n",
              "      <td>9250537</td>\n",
              "      <td>바보가 아니라 병 쉰 인듯</td>\n",
              "      <td>1</td>\n",
              "    </tr>\n",
              "  </tbody>\n",
              "</table>\n",
              "</div>"
            ],
            "text/plain": [
              "         id                                           document  label\n",
              "0   8112052                                어릴때보고 지금다시봐도 재밌어요ㅋㅋ      1\n",
              "1   8132799  디자인을 배우는 학생으로, 외국디자이너와 그들이 일군 전통을 통해 발전해가는 문화산...      1\n",
              "2   4655635               폴리스스토리 시리즈는 1부터 뉴까지 버릴께 하나도 없음.. 최고.      1\n",
              "3   9251303  와.. 연기가 진짜 개쩔구나.. 지루할거라고 생각했는데 몰입해서 봤다.. 그래 이런...      1\n",
              "4  10067386                        안개 자욱한 밤하늘에 떠 있는 초승달 같은 영화.      1\n",
              "5   2190435                      사랑을 해본사람이라면 처음부터 끝까지 웃을수 있는영화      1\n",
              "6   9279041                                   완전 감동입니다 다시봐도 감동      1\n",
              "7   7865729                        개들의 전쟁2 나오나요? 나오면 1빠로 보고 싶음      1\n",
              "8   7477618                                                  굿      1\n",
              "9   9250537                                     바보가 아니라 병 쉰 인듯      1"
            ]
          },
          "metadata": {
            "tags": []
          },
          "execution_count": 84
        }
      ]
    },
    {
      "cell_type": "code",
      "metadata": {
        "colab": {
          "base_uri": "https://localhost:8080/"
        },
        "id": "ZJX7P3J0gxdJ",
        "outputId": "f8d59313-9859-4cd7-8979-7141c478a3b0"
      },
      "source": [
        "print(data.shape) # 데이터 행과 열 개수 확인"
      ],
      "execution_count": null,
      "outputs": [
        {
          "output_type": "stream",
          "text": [
            "(200000, 3)\n"
          ],
          "name": "stdout"
        }
      ]
    },
    {
      "cell_type": "markdown",
      "metadata": {
        "id": "_XnvR-1TgxdL"
      },
      "source": [
        "# 결측값 확인 및 제거"
      ]
    },
    {
      "cell_type": "code",
      "metadata": {
        "colab": {
          "base_uri": "https://localhost:8080/"
        },
        "id": "JOnqnqRRgxdM",
        "outputId": "f6a92b64-c4b1-4d22-e6f0-2381d265eea0"
      },
      "source": [
        "data.isnull().sum() # 각 열별 결측치 데이터 개수 확인"
      ],
      "execution_count": null,
      "outputs": [
        {
          "output_type": "execute_result",
          "data": {
            "text/plain": [
              "id          0\n",
              "document    8\n",
              "label       0\n",
              "dtype: int64"
            ]
          },
          "metadata": {
            "tags": []
          },
          "execution_count": 86
        }
      ]
    },
    {
      "cell_type": "code",
      "metadata": {
        "colab": {
          "base_uri": "https://localhost:8080/",
          "height": 284
        },
        "id": "lZ1KPw9jgxdN",
        "outputId": "dfe5ef44-3b8d-463b-dc8f-beb06ac97c7d"
      },
      "source": [
        "data[data['document'].isnull()] # 'document' 열의 결측치 데이터 확인"
      ],
      "execution_count": null,
      "outputs": [
        {
          "output_type": "execute_result",
          "data": {
            "text/html": [
              "<div>\n",
              "<style scoped>\n",
              "    .dataframe tbody tr th:only-of-type {\n",
              "        vertical-align: middle;\n",
              "    }\n",
              "\n",
              "    .dataframe tbody tr th {\n",
              "        vertical-align: top;\n",
              "    }\n",
              "\n",
              "    .dataframe thead th {\n",
              "        text-align: right;\n",
              "    }\n",
              "</style>\n",
              "<table border=\"1\" class=\"dataframe\">\n",
              "  <thead>\n",
              "    <tr style=\"text-align: right;\">\n",
              "      <th></th>\n",
              "      <th>id</th>\n",
              "      <th>document</th>\n",
              "      <th>label</th>\n",
              "    </tr>\n",
              "  </thead>\n",
              "  <tbody>\n",
              "    <tr>\n",
              "      <th>46471</th>\n",
              "      <td>6369843</td>\n",
              "      <td>NaN</td>\n",
              "      <td>1</td>\n",
              "    </tr>\n",
              "    <tr>\n",
              "      <th>60735</th>\n",
              "      <td>511097</td>\n",
              "      <td>NaN</td>\n",
              "      <td>1</td>\n",
              "    </tr>\n",
              "    <tr>\n",
              "      <th>77665</th>\n",
              "      <td>2172111</td>\n",
              "      <td>NaN</td>\n",
              "      <td>1</td>\n",
              "    </tr>\n",
              "    <tr>\n",
              "      <th>84098</th>\n",
              "      <td>402110</td>\n",
              "      <td>NaN</td>\n",
              "      <td>1</td>\n",
              "    </tr>\n",
              "    <tr>\n",
              "      <th>127017</th>\n",
              "      <td>5942978</td>\n",
              "      <td>NaN</td>\n",
              "      <td>0</td>\n",
              "    </tr>\n",
              "    <tr>\n",
              "      <th>172375</th>\n",
              "      <td>5026896</td>\n",
              "      <td>NaN</td>\n",
              "      <td>0</td>\n",
              "    </tr>\n",
              "    <tr>\n",
              "      <th>173526</th>\n",
              "      <td>1034280</td>\n",
              "      <td>NaN</td>\n",
              "      <td>0</td>\n",
              "    </tr>\n",
              "    <tr>\n",
              "      <th>197279</th>\n",
              "      <td>1034283</td>\n",
              "      <td>NaN</td>\n",
              "      <td>0</td>\n",
              "    </tr>\n",
              "  </tbody>\n",
              "</table>\n",
              "</div>"
            ],
            "text/plain": [
              "             id document  label\n",
              "46471   6369843      NaN      1\n",
              "60735    511097      NaN      1\n",
              "77665   2172111      NaN      1\n",
              "84098    402110      NaN      1\n",
              "127017  5942978      NaN      0\n",
              "172375  5026896      NaN      0\n",
              "173526  1034280      NaN      0\n",
              "197279  1034283      NaN      0"
            ]
          },
          "metadata": {
            "tags": []
          },
          "execution_count": 87
        }
      ]
    },
    {
      "cell_type": "code",
      "metadata": {
        "colab": {
          "base_uri": "https://localhost:8080/"
        },
        "id": "6Q5K261MgxdP",
        "outputId": "94755a68-c388-4ccb-e285-2535bfb08768"
      },
      "source": [
        "notnull_data = data.dropna(axis = 0) # 결측치 열 제거\n",
        "notnull_data.isnull().sum() # 제거 된 결과 확인"
      ],
      "execution_count": null,
      "outputs": [
        {
          "output_type": "execute_result",
          "data": {
            "text/plain": [
              "id          0\n",
              "document    0\n",
              "label       0\n",
              "dtype: int64"
            ]
          },
          "metadata": {
            "tags": []
          },
          "execution_count": 88
        }
      ]
    },
    {
      "cell_type": "code",
      "metadata": {
        "colab": {
          "base_uri": "https://localhost:8080/"
        },
        "id": "lczxlOjTgxdR",
        "outputId": "1aa5b6db-2619-45c2-da42-a079689c8182"
      },
      "source": [
        "print(notnull_data.shape) # 결측치 열 제거 후 전체 데이터 행과 열 개수 확인 (8개 제거)"
      ],
      "execution_count": null,
      "outputs": [
        {
          "output_type": "stream",
          "text": [
            "(199992, 3)\n"
          ],
          "name": "stdout"
        }
      ]
    },
    {
      "cell_type": "markdown",
      "metadata": {
        "id": "gde8q3hHgxdS"
      },
      "source": [
        "# 중복값 확인 및 제거"
      ]
    },
    {
      "cell_type": "code",
      "metadata": {
        "colab": {
          "base_uri": "https://localhost:8080/"
        },
        "id": "M2Mv7WXNgxdT",
        "outputId": "11307e50-93cc-4153-9d7e-8b605f874d8b"
      },
      "source": [
        "notnull_data.duplicated(subset = ['document']).sum() # 'document' 열의 중복된 데이터 개수 확인"
      ],
      "execution_count": null,
      "outputs": [
        {
          "output_type": "execute_result",
          "data": {
            "text/plain": [
              "5449"
            ]
          },
          "metadata": {
            "tags": []
          },
          "execution_count": 90
        }
      ]
    },
    {
      "cell_type": "code",
      "metadata": {
        "colab": {
          "base_uri": "https://localhost:8080/",
          "height": 402
        },
        "id": "31aCyQ5YgxdU",
        "outputId": "6eb333ca-84a8-4769-8b81-391366b1d9f4"
      },
      "source": [
        "notnull_data[notnull_data.duplicated(subset = ['document'])] # 'document' 열의 중복된 데이터 확인"
      ],
      "execution_count": null,
      "outputs": [
        {
          "output_type": "execute_result",
          "data": {
            "text/html": [
              "<div>\n",
              "<style scoped>\n",
              "    .dataframe tbody tr th:only-of-type {\n",
              "        vertical-align: middle;\n",
              "    }\n",
              "\n",
              "    .dataframe tbody tr th {\n",
              "        vertical-align: top;\n",
              "    }\n",
              "\n",
              "    .dataframe thead th {\n",
              "        text-align: right;\n",
              "    }\n",
              "</style>\n",
              "<table border=\"1\" class=\"dataframe\">\n",
              "  <thead>\n",
              "    <tr style=\"text-align: right;\">\n",
              "      <th></th>\n",
              "      <th>id</th>\n",
              "      <th>document</th>\n",
              "      <th>label</th>\n",
              "    </tr>\n",
              "  </thead>\n",
              "  <tbody>\n",
              "    <tr>\n",
              "      <th>187</th>\n",
              "      <td>3946738</td>\n",
              "      <td>굿</td>\n",
              "      <td>1</td>\n",
              "    </tr>\n",
              "    <tr>\n",
              "      <th>740</th>\n",
              "      <td>4217807</td>\n",
              "      <td>재밌다</td>\n",
              "      <td>1</td>\n",
              "    </tr>\n",
              "    <tr>\n",
              "      <th>1369</th>\n",
              "      <td>3044092</td>\n",
              "      <td>재밋다</td>\n",
              "      <td>1</td>\n",
              "    </tr>\n",
              "    <tr>\n",
              "      <th>1535</th>\n",
              "      <td>6924850</td>\n",
              "      <td>굿</td>\n",
              "      <td>1</td>\n",
              "    </tr>\n",
              "    <tr>\n",
              "      <th>1896</th>\n",
              "      <td>2417941</td>\n",
              "      <td>쵝오</td>\n",
              "      <td>1</td>\n",
              "    </tr>\n",
              "    <tr>\n",
              "      <th>...</th>\n",
              "      <td>...</td>\n",
              "      <td>...</td>\n",
              "      <td>...</td>\n",
              "    </tr>\n",
              "    <tr>\n",
              "      <th>199932</th>\n",
              "      <td>2334732</td>\n",
              "      <td>지루함...</td>\n",
              "      <td>0</td>\n",
              "    </tr>\n",
              "    <tr>\n",
              "      <th>199939</th>\n",
              "      <td>2105796</td>\n",
              "      <td>bad</td>\n",
              "      <td>0</td>\n",
              "    </tr>\n",
              "    <tr>\n",
              "      <th>199944</th>\n",
              "      <td>2100743</td>\n",
              "      <td>재미없다...</td>\n",
              "      <td>0</td>\n",
              "    </tr>\n",
              "    <tr>\n",
              "      <th>199946</th>\n",
              "      <td>735755</td>\n",
              "      <td>에혀</td>\n",
              "      <td>0</td>\n",
              "    </tr>\n",
              "    <tr>\n",
              "      <th>199966</th>\n",
              "      <td>7405830</td>\n",
              "      <td>재미 더럽게없다..</td>\n",
              "      <td>0</td>\n",
              "    </tr>\n",
              "  </tbody>\n",
              "</table>\n",
              "<p>5449 rows × 3 columns</p>\n",
              "</div>"
            ],
            "text/plain": [
              "             id    document  label\n",
              "187     3946738           굿      1\n",
              "740     4217807         재밌다      1\n",
              "1369    3044092         재밋다      1\n",
              "1535    6924850           굿      1\n",
              "1896    2417941          쵝오      1\n",
              "...         ...         ...    ...\n",
              "199932  2334732      지루함...      0\n",
              "199939  2105796         bad      0\n",
              "199944  2100743     재미없다...      0\n",
              "199946   735755          에혀      0\n",
              "199966  7405830  재미 더럽게없다..      0\n",
              "\n",
              "[5449 rows x 3 columns]"
            ]
          },
          "metadata": {
            "tags": []
          },
          "execution_count": 91
        }
      ]
    },
    {
      "cell_type": "code",
      "metadata": {
        "colab": {
          "base_uri": "https://localhost:8080/",
          "height": 402
        },
        "id": "5B9tOPpNgxdW",
        "outputId": "dd50ee41-d1bc-4a52-89ef-7849aca4e9ae"
      },
      "source": [
        "notnull_data[notnull_data[\"document\"].eq(\"재밌다\")] # \"재밌다\" 에 해당되는 'document' 데이터 확인"
      ],
      "execution_count": null,
      "outputs": [
        {
          "output_type": "execute_result",
          "data": {
            "text/html": [
              "<div>\n",
              "<style scoped>\n",
              "    .dataframe tbody tr th:only-of-type {\n",
              "        vertical-align: middle;\n",
              "    }\n",
              "\n",
              "    .dataframe tbody tr th {\n",
              "        vertical-align: top;\n",
              "    }\n",
              "\n",
              "    .dataframe thead th {\n",
              "        text-align: right;\n",
              "    }\n",
              "</style>\n",
              "<table border=\"1\" class=\"dataframe\">\n",
              "  <thead>\n",
              "    <tr style=\"text-align: right;\">\n",
              "      <th></th>\n",
              "      <th>id</th>\n",
              "      <th>document</th>\n",
              "      <th>label</th>\n",
              "    </tr>\n",
              "  </thead>\n",
              "  <tbody>\n",
              "    <tr>\n",
              "      <th>11</th>\n",
              "      <td>640794</td>\n",
              "      <td>재밌다</td>\n",
              "      <td>1</td>\n",
              "    </tr>\n",
              "    <tr>\n",
              "      <th>740</th>\n",
              "      <td>4217807</td>\n",
              "      <td>재밌다</td>\n",
              "      <td>1</td>\n",
              "    </tr>\n",
              "    <tr>\n",
              "      <th>1945</th>\n",
              "      <td>4248646</td>\n",
              "      <td>재밌다</td>\n",
              "      <td>1</td>\n",
              "    </tr>\n",
              "    <tr>\n",
              "      <th>3365</th>\n",
              "      <td>3513408</td>\n",
              "      <td>재밌다</td>\n",
              "      <td>1</td>\n",
              "    </tr>\n",
              "    <tr>\n",
              "      <th>6078</th>\n",
              "      <td>438156</td>\n",
              "      <td>재밌다</td>\n",
              "      <td>1</td>\n",
              "    </tr>\n",
              "    <tr>\n",
              "      <th>...</th>\n",
              "      <td>...</td>\n",
              "      <td>...</td>\n",
              "      <td>...</td>\n",
              "    </tr>\n",
              "    <tr>\n",
              "      <th>99124</th>\n",
              "      <td>7159030</td>\n",
              "      <td>재밌다</td>\n",
              "      <td>1</td>\n",
              "    </tr>\n",
              "    <tr>\n",
              "      <th>109311</th>\n",
              "      <td>4744165</td>\n",
              "      <td>재밌다</td>\n",
              "      <td>0</td>\n",
              "    </tr>\n",
              "    <tr>\n",
              "      <th>128729</th>\n",
              "      <td>6108948</td>\n",
              "      <td>재밌다</td>\n",
              "      <td>0</td>\n",
              "    </tr>\n",
              "    <tr>\n",
              "      <th>150097</th>\n",
              "      <td>6137250</td>\n",
              "      <td>재밌다</td>\n",
              "      <td>0</td>\n",
              "    </tr>\n",
              "    <tr>\n",
              "      <th>158221</th>\n",
              "      <td>4778383</td>\n",
              "      <td>재밌다</td>\n",
              "      <td>0</td>\n",
              "    </tr>\n",
              "  </tbody>\n",
              "</table>\n",
              "<p>69 rows × 3 columns</p>\n",
              "</div>"
            ],
            "text/plain": [
              "             id document  label\n",
              "11       640794      재밌다      1\n",
              "740     4217807      재밌다      1\n",
              "1945    4248646      재밌다      1\n",
              "3365    3513408      재밌다      1\n",
              "6078     438156      재밌다      1\n",
              "...         ...      ...    ...\n",
              "99124   7159030      재밌다      1\n",
              "109311  4744165      재밌다      0\n",
              "128729  6108948      재밌다      0\n",
              "150097  6137250      재밌다      0\n",
              "158221  4778383      재밌다      0\n",
              "\n",
              "[69 rows x 3 columns]"
            ]
          },
          "metadata": {
            "tags": []
          },
          "execution_count": 92
        }
      ]
    },
    {
      "cell_type": "code",
      "metadata": {
        "colab": {
          "base_uri": "https://localhost:8080/",
          "height": 195
        },
        "id": "-QigjuPLgxdZ",
        "outputId": "8a8daf8f-be9d-422f-ca41-5c3a0bca5ee3"
      },
      "source": [
        "notnull_data[notnull_data[\"document\"].eq(\"재미 더럽게없다..\")] # \"재미 더럽게없다..\" 에 해당되는 'document' 데이터 확인"
      ],
      "execution_count": null,
      "outputs": [
        {
          "output_type": "execute_result",
          "data": {
            "text/html": [
              "<div>\n",
              "<style scoped>\n",
              "    .dataframe tbody tr th:only-of-type {\n",
              "        vertical-align: middle;\n",
              "    }\n",
              "\n",
              "    .dataframe tbody tr th {\n",
              "        vertical-align: top;\n",
              "    }\n",
              "\n",
              "    .dataframe thead th {\n",
              "        text-align: right;\n",
              "    }\n",
              "</style>\n",
              "<table border=\"1\" class=\"dataframe\">\n",
              "  <thead>\n",
              "    <tr style=\"text-align: right;\">\n",
              "      <th></th>\n",
              "      <th>id</th>\n",
              "      <th>document</th>\n",
              "      <th>label</th>\n",
              "    </tr>\n",
              "  </thead>\n",
              "  <tbody>\n",
              "    <tr>\n",
              "      <th>102354</th>\n",
              "      <td>7345248</td>\n",
              "      <td>재미 더럽게없다..</td>\n",
              "      <td>0</td>\n",
              "    </tr>\n",
              "    <tr>\n",
              "      <th>179240</th>\n",
              "      <td>7125895</td>\n",
              "      <td>재미 더럽게없다..</td>\n",
              "      <td>0</td>\n",
              "    </tr>\n",
              "    <tr>\n",
              "      <th>196015</th>\n",
              "      <td>4609944</td>\n",
              "      <td>재미 더럽게없다..</td>\n",
              "      <td>0</td>\n",
              "    </tr>\n",
              "    <tr>\n",
              "      <th>199362</th>\n",
              "      <td>7427273</td>\n",
              "      <td>재미 더럽게없다..</td>\n",
              "      <td>0</td>\n",
              "    </tr>\n",
              "    <tr>\n",
              "      <th>199966</th>\n",
              "      <td>7405830</td>\n",
              "      <td>재미 더럽게없다..</td>\n",
              "      <td>0</td>\n",
              "    </tr>\n",
              "  </tbody>\n",
              "</table>\n",
              "</div>"
            ],
            "text/plain": [
              "             id    document  label\n",
              "102354  7345248  재미 더럽게없다..      0\n",
              "179240  7125895  재미 더럽게없다..      0\n",
              "196015  4609944  재미 더럽게없다..      0\n",
              "199362  7427273  재미 더럽게없다..      0\n",
              "199966  7405830  재미 더럽게없다..      0"
            ]
          },
          "metadata": {
            "tags": []
          },
          "execution_count": 93
        }
      ]
    },
    {
      "cell_type": "code",
      "metadata": {
        "colab": {
          "base_uri": "https://localhost:8080/"
        },
        "id": "SF9dLGGMgxda",
        "outputId": "0814a39d-cced-4b75-a5d8-4b0d56afb88d"
      },
      "source": [
        "unique_df = notnull_data.drop_duplicates(subset = [\"document\"]) # 'document' 열이 중복된 데이터 제거\n",
        "unique_df.shape # 'document' 열이 중복된 데이터를 제거한 이후 데이터 행과 열 개수 확인 (5,449개 제거)\n",
        "# 199992 - 5449 = 194543"
      ],
      "execution_count": null,
      "outputs": [
        {
          "output_type": "execute_result",
          "data": {
            "text/plain": [
              "(194543, 3)"
            ]
          },
          "metadata": {
            "tags": []
          },
          "execution_count": 94
        }
      ]
    },
    {
      "cell_type": "code",
      "metadata": {
        "colab": {
          "base_uri": "https://localhost:8080/",
          "height": 558
        },
        "id": "39QH1ZpKgxdc",
        "outputId": "d7317be9-ca51-45d6-968c-5db4640782d2"
      },
      "source": [
        "unique_df[\"preprocessed_document\"] = unique_df[\"document\"].str.replace(\"[^ㄱ-ㅣ가-힣]+\",\"\") # 한글과 띄어쓰기가 아닌 문자들을 제거\n",
        "unique_df # 위에서 언급한 전처리 과정이 적용된 'preprocessed_document' 열 확인"
      ],
      "execution_count": null,
      "outputs": [
        {
          "output_type": "stream",
          "text": [
            "/usr/local/lib/python3.6/dist-packages/ipykernel_launcher.py:1: SettingWithCopyWarning: \n",
            "A value is trying to be set on a copy of a slice from a DataFrame.\n",
            "Try using .loc[row_indexer,col_indexer] = value instead\n",
            "\n",
            "See the caveats in the documentation: https://pandas.pydata.org/pandas-docs/stable/user_guide/indexing.html#returning-a-view-versus-a-copy\n",
            "  \"\"\"Entry point for launching an IPython kernel.\n"
          ],
          "name": "stderr"
        },
        {
          "output_type": "execute_result",
          "data": {
            "text/html": [
              "<div>\n",
              "<style scoped>\n",
              "    .dataframe tbody tr th:only-of-type {\n",
              "        vertical-align: middle;\n",
              "    }\n",
              "\n",
              "    .dataframe tbody tr th {\n",
              "        vertical-align: top;\n",
              "    }\n",
              "\n",
              "    .dataframe thead th {\n",
              "        text-align: right;\n",
              "    }\n",
              "</style>\n",
              "<table border=\"1\" class=\"dataframe\">\n",
              "  <thead>\n",
              "    <tr style=\"text-align: right;\">\n",
              "      <th></th>\n",
              "      <th>id</th>\n",
              "      <th>document</th>\n",
              "      <th>label</th>\n",
              "      <th>preprocessed_document</th>\n",
              "    </tr>\n",
              "  </thead>\n",
              "  <tbody>\n",
              "    <tr>\n",
              "      <th>0</th>\n",
              "      <td>8112052</td>\n",
              "      <td>어릴때보고 지금다시봐도 재밌어요ㅋㅋ</td>\n",
              "      <td>1</td>\n",
              "      <td>어릴때보고지금다시봐도재밌어요ㅋㅋ</td>\n",
              "    </tr>\n",
              "    <tr>\n",
              "      <th>1</th>\n",
              "      <td>8132799</td>\n",
              "      <td>디자인을 배우는 학생으로, 외국디자이너와 그들이 일군 전통을 통해 발전해가는 문화산...</td>\n",
              "      <td>1</td>\n",
              "      <td>디자인을배우는학생으로외국디자이너와그들이일군전통을통해발전해가는문화산업이부러웠는데사실우...</td>\n",
              "    </tr>\n",
              "    <tr>\n",
              "      <th>2</th>\n",
              "      <td>4655635</td>\n",
              "      <td>폴리스스토리 시리즈는 1부터 뉴까지 버릴께 하나도 없음.. 최고.</td>\n",
              "      <td>1</td>\n",
              "      <td>폴리스스토리시리즈는부터뉴까지버릴께하나도없음최고</td>\n",
              "    </tr>\n",
              "    <tr>\n",
              "      <th>3</th>\n",
              "      <td>9251303</td>\n",
              "      <td>와.. 연기가 진짜 개쩔구나.. 지루할거라고 생각했는데 몰입해서 봤다.. 그래 이런...</td>\n",
              "      <td>1</td>\n",
              "      <td>와연기가진짜개쩔구나지루할거라고생각했는데몰입해서봤다그래이런게진짜영화지</td>\n",
              "    </tr>\n",
              "    <tr>\n",
              "      <th>4</th>\n",
              "      <td>10067386</td>\n",
              "      <td>안개 자욱한 밤하늘에 떠 있는 초승달 같은 영화.</td>\n",
              "      <td>1</td>\n",
              "      <td>안개자욱한밤하늘에떠있는초승달같은영화</td>\n",
              "    </tr>\n",
              "    <tr>\n",
              "      <th>...</th>\n",
              "      <td>...</td>\n",
              "      <td>...</td>\n",
              "      <td>...</td>\n",
              "      <td>...</td>\n",
              "    </tr>\n",
              "    <tr>\n",
              "      <th>199995</th>\n",
              "      <td>8963373</td>\n",
              "      <td>포켓 몬스터 짜가 ㅡㅡ;;</td>\n",
              "      <td>0</td>\n",
              "      <td>포켓몬스터짜가ㅡㅡ</td>\n",
              "    </tr>\n",
              "    <tr>\n",
              "      <th>199996</th>\n",
              "      <td>3302770</td>\n",
              "      <td>쓰.레.기</td>\n",
              "      <td>0</td>\n",
              "      <td>쓰레기</td>\n",
              "    </tr>\n",
              "    <tr>\n",
              "      <th>199997</th>\n",
              "      <td>5458175</td>\n",
              "      <td>완전 사이코영화. 마지막은 더욱더 이 영화의질을 떨어트린다.</td>\n",
              "      <td>0</td>\n",
              "      <td>완전사이코영화마지막은더욱더이영화의질을떨어트린다</td>\n",
              "    </tr>\n",
              "    <tr>\n",
              "      <th>199998</th>\n",
              "      <td>6908648</td>\n",
              "      <td>왜난 재미없었지 ㅠㅠ 라따뚜이 보고나서 스머프 봐서 그런가 ㅋㅋ</td>\n",
              "      <td>0</td>\n",
              "      <td>왜난재미없었지ㅠㅠ라따뚜이보고나서스머프봐서그런가ㅋㅋ</td>\n",
              "    </tr>\n",
              "    <tr>\n",
              "      <th>199999</th>\n",
              "      <td>8548411</td>\n",
              "      <td>포풍저그가나가신다영차영차영차</td>\n",
              "      <td>0</td>\n",
              "      <td>포풍저그가나가신다영차영차영차</td>\n",
              "    </tr>\n",
              "  </tbody>\n",
              "</table>\n",
              "<p>194543 rows × 4 columns</p>\n",
              "</div>"
            ],
            "text/plain": [
              "              id  ...                              preprocessed_document\n",
              "0        8112052  ...                                  어릴때보고지금다시봐도재밌어요ㅋㅋ\n",
              "1        8132799  ...  디자인을배우는학생으로외국디자이너와그들이일군전통을통해발전해가는문화산업이부러웠는데사실우...\n",
              "2        4655635  ...                          폴리스스토리시리즈는부터뉴까지버릴께하나도없음최고\n",
              "3        9251303  ...              와연기가진짜개쩔구나지루할거라고생각했는데몰입해서봤다그래이런게진짜영화지\n",
              "4       10067386  ...                                안개자욱한밤하늘에떠있는초승달같은영화\n",
              "...          ...  ...                                                ...\n",
              "199995   8963373  ...                                          포켓몬스터짜가ㅡㅡ\n",
              "199996   3302770  ...                                                쓰레기\n",
              "199997   5458175  ...                          완전사이코영화마지막은더욱더이영화의질을떨어트린다\n",
              "199998   6908648  ...                        왜난재미없었지ㅠㅠ라따뚜이보고나서스머프봐서그런가ㅋㅋ\n",
              "199999   8548411  ...                                    포풍저그가나가신다영차영차영차\n",
              "\n",
              "[194543 rows x 4 columns]"
            ]
          },
          "metadata": {
            "tags": []
          },
          "execution_count": 95
        }
      ]
    },
    {
      "cell_type": "markdown",
      "metadata": {
        "id": "eoAlgGT6gxde"
      },
      "source": [
        "# 영화 리뷰 데이터에 대해 문장 길이를 계산하고 시각화를 통해 데이터를 탐색"
      ]
    },
    {
      "cell_type": "code",
      "metadata": {
        "colab": {
          "base_uri": "https://localhost:8080/"
        },
        "id": "cNxUf6YAgxde",
        "outputId": "216a67e2-662f-4147-d10b-87829cba539c"
      },
      "source": [
        "unique_df[\"document_len\"] = unique_df[\"preprocessed_document\"].apply(lambda x: len(x)) # 'preprocessed_document' 리뷰들의 문장 길이를 계산하여 'document_len' 열로 저장"
      ],
      "execution_count": null,
      "outputs": [
        {
          "output_type": "stream",
          "text": [
            "/usr/local/lib/python3.6/dist-packages/ipykernel_launcher.py:1: SettingWithCopyWarning: \n",
            "A value is trying to be set on a copy of a slice from a DataFrame.\n",
            "Try using .loc[row_indexer,col_indexer] = value instead\n",
            "\n",
            "See the caveats in the documentation: https://pandas.pydata.org/pandas-docs/stable/user_guide/indexing.html#returning-a-view-versus-a-copy\n",
            "  \"\"\"Entry point for launching an IPython kernel.\n"
          ],
          "name": "stderr"
        }
      ]
    },
    {
      "cell_type": "code",
      "metadata": {
        "colab": {
          "base_uri": "https://localhost:8080/",
          "height": 482
        },
        "id": "wyJRldbogxdg",
        "outputId": "56ede9e1-7e83-4d23-961d-c2d5c33269bf"
      },
      "source": [
        "plt.rcParams[\"figure.figsize\"] = (15, 7) # 그래프 크기 지정\n",
        "sns.histplot(unique_df[\"document_len\"], color = \"green\") # 단일 변량 분포 그래프\n",
        "plt.title(\"The Distribution of Length over the Movie Reviews\", fontsize = 20) # 그래프 제목, 글자 크기는 20 지정"
      ],
      "execution_count": null,
      "outputs": [
        {
          "output_type": "execute_result",
          "data": {
            "text/plain": [
              "Text(0.5, 1.0, 'The Distribution of Length over the Movie Reviews')"
            ]
          },
          "metadata": {
            "tags": []
          },
          "execution_count": 97
        },
        {
          "output_type": "display_data",
          "data": {
            "image/png": "[encoded data removed]",
            "text/plain": [
              "<Figure size 1080x504 with 1 Axes>"
            ]
          },
          "metadata": {
            "tags": [],
            "needs_background": "light"
          }
        }
      ]
    },
    {
      "cell_type": "code",
      "metadata": {
        "colab": {
          "base_uri": "https://localhost:8080/",
          "height": 516
        },
        "id": "pdCvMoDugxdh",
        "outputId": "8d192641-f857-4467-94d1-e3a1e448f7ec"
      },
      "source": [
        "sns.boxplot(unique_df[\"document_len\"]) # 'document_len' 데이터 상자 그림 그리기"
      ],
      "execution_count": null,
      "outputs": [
        {
          "output_type": "stream",
          "text": [
            "/usr/local/lib/python3.6/dist-packages/seaborn/_decorators.py:43: FutureWarning: Pass the following variable as a keyword arg: x. From version 0.12, the only valid positional argument will be `data`, and passing other arguments without an explicit keyword will result in an error or misinterpretation.\n",
            "  FutureWarning\n"
          ],
          "name": "stderr"
        },
        {
          "output_type": "execute_result",
          "data": {
            "text/plain": [
              "<matplotlib.axes._subplots.AxesSubplot at 0x7f7e7ffd4048>"
            ]
          },
          "metadata": {
            "tags": []
          },
          "execution_count": 98
        },
        {
          "output_type": "display_data",
          "data": {
            "image/png": "[encoded data removed]",
            "text/plain": [
              "<Figure size 1080x504 with 1 Axes>"
            ]
          },
          "metadata": {
            "tags": [],
            "needs_background": "light"
          }
        }
      ]
    },
    {
      "cell_type": "code",
      "metadata": {
        "colab": {
          "base_uri": "https://localhost:8080/"
        },
        "id": "N__Oi2yUgxdj",
        "outputId": "0eb0616c-4cd1-48aa-e51a-4585a7aebb41"
      },
      "source": [
        "unique_df[\"document_len\"].describe() # 'document_len' 열의 통계량 확인 (1분위수, 3분위수)"
      ],
      "execution_count": null,
      "outputs": [
        {
          "output_type": "execute_result",
          "data": {
            "text/plain": [
              "count    194543.000000\n",
              "mean         26.246557\n",
              "std          21.895254\n",
              "min           0.000000\n",
              "25%          12.000000\n",
              "50%          20.000000\n",
              "75%          31.000000\n",
              "max         140.000000\n",
              "Name: document_len, dtype: float64"
            ]
          },
          "metadata": {
            "tags": []
          },
          "execution_count": 99
        }
      ]
    },
    {
      "cell_type": "code",
      "metadata": {
        "colab": {
          "base_uri": "https://localhost:8080/"
        },
        "id": "U4MEQ6A6XrIV",
        "outputId": "d28260bc-a0e4-4075-e3ee-68585be5650f"
      },
      "source": [
        "unique_df[\"document_len\"].describe()\n",
        "num=unique_df[unique_df[\"document_len\"]>60].count()\n",
        "num"
      ],
      "execution_count": null,
      "outputs": [
        {
          "output_type": "execute_result",
          "data": {
            "text/plain": [
              "id                       16954\n",
              "document                 16954\n",
              "label                    16954\n",
              "preprocessed_document    16954\n",
              "document_len             16954\n",
              "dtype: int64"
            ]
          },
          "metadata": {
            "tags": []
          },
          "execution_count": 100
        }
      ]
    },
    {
      "cell_type": "code",
      "metadata": {
        "id": "T4u1snhJYKqr"
      },
      "source": [
        "total=unique_df[\"document_len\"].count()"
      ],
      "execution_count": null,
      "outputs": []
    },
    {
      "cell_type": "code",
      "metadata": {
        "colab": {
          "base_uri": "https://localhost:8080/"
        },
        "id": "IvyYGiSVYN8a",
        "outputId": "951f8591-089b-4e76-eab3-00aa99844aa5"
      },
      "source": [
        "num/total*100\n",
        "#절사평균 설명쓰기"
      ],
      "execution_count": null,
      "outputs": [
        {
          "output_type": "execute_result",
          "data": {
            "text/plain": [
              "id                       8.714783\n",
              "document                 8.714783\n",
              "label                    8.714783\n",
              "preprocessed_document    8.714783\n",
              "document_len             8.714783\n",
              "dtype: float64"
            ]
          },
          "metadata": {
            "tags": []
          },
          "execution_count": 102
        }
      ]
    },
    {
      "cell_type": "code",
      "metadata": {
        "id": "6qrQktRVdy8z"
      },
      "source": [
        "import numpy as np\n",
        "newindex=np.arange(194543)\n",
        "newindex\n",
        "unique_df['newindex']=newindex"
      ],
      "execution_count": null,
      "outputs": []
    },
    {
      "cell_type": "code",
      "metadata": {
        "id": "n3gWMqbNYYJT"
      },
      "source": [
        "unique_df=unique_df.sort_values(by='document_len')\n",
        "\n",
        "#unique_df.reindex(np.arange(16954))\n",
        "\n"
      ],
      "execution_count": null,
      "outputs": []
    },
    {
      "cell_type": "code",
      "metadata": {
        "colab": {
          "base_uri": "https://localhost:8080/",
          "height": 486
        },
        "id": "TVgTlOFOfDqj",
        "outputId": "1c857819-34fc-41ba-decd-aab0c45564e3"
      },
      "source": [
        "unique_df"
      ],
      "execution_count": null,
      "outputs": [
        {
          "output_type": "execute_result",
          "data": {
            "text/html": [
              "<div>\n",
              "<style scoped>\n",
              "    .dataframe tbody tr th:only-of-type {\n",
              "        vertical-align: middle;\n",
              "    }\n",
              "\n",
              "    .dataframe tbody tr th {\n",
              "        vertical-align: top;\n",
              "    }\n",
              "\n",
              "    .dataframe thead th {\n",
              "        text-align: right;\n",
              "    }\n",
              "</style>\n",
              "<table border=\"1\" class=\"dataframe\">\n",
              "  <thead>\n",
              "    <tr style=\"text-align: right;\">\n",
              "      <th></th>\n",
              "      <th>id</th>\n",
              "      <th>document</th>\n",
              "      <th>label</th>\n",
              "      <th>preprocessed_document</th>\n",
              "      <th>document_len</th>\n",
              "    </tr>\n",
              "  </thead>\n",
              "  <tbody>\n",
              "    <tr>\n",
              "      <th>50289</th>\n",
              "      <td>10118564</td>\n",
              "      <td>ooh child things are gonna get easier</td>\n",
              "      <td>1</td>\n",
              "      <td></td>\n",
              "      <td>0</td>\n",
              "    </tr>\n",
              "    <tr>\n",
              "      <th>29962</th>\n",
              "      <td>7981407</td>\n",
              "      <td>.................</td>\n",
              "      <td>1</td>\n",
              "      <td></td>\n",
              "      <td>0</td>\n",
              "    </tr>\n",
              "    <tr>\n",
              "      <th>151210</th>\n",
              "      <td>2579718</td>\n",
              "      <td>What a trash piece !</td>\n",
              "      <td>0</td>\n",
              "      <td></td>\n",
              "      <td>0</td>\n",
              "    </tr>\n",
              "    <tr>\n",
              "      <th>14487</th>\n",
              "      <td>4458771</td>\n",
              "      <td>mother fucker! oh shit!</td>\n",
              "      <td>1</td>\n",
              "      <td></td>\n",
              "      <td>0</td>\n",
              "    </tr>\n",
              "    <tr>\n",
              "      <th>35203</th>\n",
              "      <td>7564535</td>\n",
              "      <td>ang?</td>\n",
              "      <td>1</td>\n",
              "      <td></td>\n",
              "      <td>0</td>\n",
              "    </tr>\n",
              "    <tr>\n",
              "      <th>...</th>\n",
              "      <td>...</td>\n",
              "      <td>...</td>\n",
              "      <td>...</td>\n",
              "      <td>...</td>\n",
              "      <td>...</td>\n",
              "    </tr>\n",
              "    <tr>\n",
              "      <th>150625</th>\n",
              "      <td>7928616</td>\n",
              "      <td>리허설하긴함?생방송이벅차면대본대로하던가ㅋ영화더테러보는줄나까지급박해서ㅋ시간분배도안되있...</td>\n",
              "      <td>0</td>\n",
              "      <td>리허설하긴함생방송이벅차면대본대로하던가ㅋ영화더테러보는줄나까지급박해서ㅋ시간분배도안되있고...</td>\n",
              "      <td>139</td>\n",
              "    </tr>\n",
              "    <tr>\n",
              "      <th>187824</th>\n",
              "      <td>7928523</td>\n",
              "      <td>승리는에피소드준비햇다하면서엠씨들은주구장창스캔들얘기만물어보고또엠씨들이포장식으로하면서계...</td>\n",
              "      <td>0</td>\n",
              "      <td>승리는에피소드준비햇다하면서엠씨들은주구장창스캔들얘기만물어보고또엠씨들이포장식으로하면서계...</td>\n",
              "      <td>139</td>\n",
              "    </tr>\n",
              "    <tr>\n",
              "      <th>123894</th>\n",
              "      <td>7923683</td>\n",
              "      <td>ㅋㅋㅋㅋㅋㅋㅋㅋㅋㅋㅋㅋㅋㅋㅋㅋㅋㅋㅋㅋㅋㅋㅋㅋㅋㅋㅋㅋㅋㅋㅋㅋㅋㅋㅋㅋㅋㅋㅋㅋㅋㅋㅋㅋㅋㅋ...</td>\n",
              "      <td>0</td>\n",
              "      <td>ㅋㅋㅋㅋㅋㅋㅋㅋㅋㅋㅋㅋㅋㅋㅋㅋㅋㅋㅋㅋㅋㅋㅋㅋㅋㅋㅋㅋㅋㅋㅋㅋㅋㅋㅋㅋㅋㅋㅋㅋㅋㅋㅋㅋㅋㅋ...</td>\n",
              "      <td>139</td>\n",
              "    </tr>\n",
              "    <tr>\n",
              "      <th>128532</th>\n",
              "      <td>7767475</td>\n",
              "      <td>재미없다ㅠㅠㅠㅠㅠㅠㅠㅠㅠㅠㅠㅠㅠㅠㅠㅠㅠㅠㅠㅠㅠㅠㅠㅠㅠㅠㅠㅠㅠㅠㅠㅠㅠㅠㅠㅠㅠㅠㅠㅠㅠㅠ...</td>\n",
              "      <td>0</td>\n",
              "      <td>재미없다ㅠㅠㅠㅠㅠㅠㅠㅠㅠㅠㅠㅠㅠㅠㅠㅠㅠㅠㅠㅠㅠㅠㅠㅠㅠㅠㅠㅠㅠㅠㅠㅠㅠㅠㅠㅠㅠㅠㅠㅠㅠㅠ...</td>\n",
              "      <td>140</td>\n",
              "    </tr>\n",
              "    <tr>\n",
              "      <th>144974</th>\n",
              "      <td>7967807</td>\n",
              "      <td>ㅋㅋㅋㅋㅋㅋㅋㅋㅋㅋㅋㅋㅋㅋㅋㅋㅋㅋㅋㅋㅋㅋㅋㅋㅋㅋㅋㅋㅋㅋㅋㅋㅋㅋㅋㅋㅋㅋㅋㅋㅋㅋㅋㅋㅋㅋ...</td>\n",
              "      <td>0</td>\n",
              "      <td>ㅋㅋㅋㅋㅋㅋㅋㅋㅋㅋㅋㅋㅋㅋㅋㅋㅋㅋㅋㅋㅋㅋㅋㅋㅋㅋㅋㅋㅋㅋㅋㅋㅋㅋㅋㅋㅋㅋㅋㅋㅋㅋㅋㅋㅋㅋ...</td>\n",
              "      <td>140</td>\n",
              "    </tr>\n",
              "  </tbody>\n",
              "</table>\n",
              "<p>194543 rows × 5 columns</p>\n",
              "</div>"
            ],
            "text/plain": [
              "              id  ... document_len\n",
              "50289   10118564  ...            0\n",
              "29962    7981407  ...            0\n",
              "151210   2579718  ...            0\n",
              "14487    4458771  ...            0\n",
              "35203    7564535  ...            0\n",
              "...          ...  ...          ...\n",
              "150625   7928616  ...          139\n",
              "187824   7928523  ...          139\n",
              "123894   7923683  ...          139\n",
              "128532   7767475  ...          140\n",
              "144974   7967807  ...          140\n",
              "\n",
              "[194543 rows x 5 columns]"
            ]
          },
          "metadata": {
            "tags": []
          },
          "execution_count": 111
        }
      ]
    },
    {
      "cell_type": "code",
      "metadata": {
        "colab": {
          "base_uri": "https://localhost:8080/",
          "height": 515
        },
        "id": "DPBXUSuMfiCu",
        "outputId": "e6d9da2f-1eb9-4f25-fe76-a3bd3f55bab2"
      },
      "source": [
        "unique_df.set_index('newindex')"
      ],
      "execution_count": null,
      "outputs": [
        {
          "output_type": "execute_result",
          "data": {
            "text/html": [
              "<div>\n",
              "<style scoped>\n",
              "    .dataframe tbody tr th:only-of-type {\n",
              "        vertical-align: middle;\n",
              "    }\n",
              "\n",
              "    .dataframe tbody tr th {\n",
              "        vertical-align: top;\n",
              "    }\n",
              "\n",
              "    .dataframe thead th {\n",
              "        text-align: right;\n",
              "    }\n",
              "</style>\n",
              "<table border=\"1\" class=\"dataframe\">\n",
              "  <thead>\n",
              "    <tr style=\"text-align: right;\">\n",
              "      <th></th>\n",
              "      <th>id</th>\n",
              "      <th>document</th>\n",
              "      <th>label</th>\n",
              "      <th>preprocessed_document</th>\n",
              "      <th>document_len</th>\n",
              "    </tr>\n",
              "    <tr>\n",
              "      <th>newindex</th>\n",
              "      <th></th>\n",
              "      <th></th>\n",
              "      <th></th>\n",
              "      <th></th>\n",
              "      <th></th>\n",
              "    </tr>\n",
              "  </thead>\n",
              "  <tbody>\n",
              "    <tr>\n",
              "      <th>0</th>\n",
              "      <td>10118564</td>\n",
              "      <td>ooh child things are gonna get easier</td>\n",
              "      <td>1</td>\n",
              "      <td></td>\n",
              "      <td>0</td>\n",
              "    </tr>\n",
              "    <tr>\n",
              "      <th>1</th>\n",
              "      <td>7981407</td>\n",
              "      <td>.................</td>\n",
              "      <td>1</td>\n",
              "      <td></td>\n",
              "      <td>0</td>\n",
              "    </tr>\n",
              "    <tr>\n",
              "      <th>2</th>\n",
              "      <td>2579718</td>\n",
              "      <td>What a trash piece !</td>\n",
              "      <td>0</td>\n",
              "      <td></td>\n",
              "      <td>0</td>\n",
              "    </tr>\n",
              "    <tr>\n",
              "      <th>3</th>\n",
              "      <td>4458771</td>\n",
              "      <td>mother fucker! oh shit!</td>\n",
              "      <td>1</td>\n",
              "      <td></td>\n",
              "      <td>0</td>\n",
              "    </tr>\n",
              "    <tr>\n",
              "      <th>4</th>\n",
              "      <td>7564535</td>\n",
              "      <td>ang?</td>\n",
              "      <td>1</td>\n",
              "      <td></td>\n",
              "      <td>0</td>\n",
              "    </tr>\n",
              "    <tr>\n",
              "      <th>...</th>\n",
              "      <td>...</td>\n",
              "      <td>...</td>\n",
              "      <td>...</td>\n",
              "      <td>...</td>\n",
              "      <td>...</td>\n",
              "    </tr>\n",
              "    <tr>\n",
              "      <th>194538</th>\n",
              "      <td>7928616</td>\n",
              "      <td>리허설하긴함?생방송이벅차면대본대로하던가ㅋ영화더테러보는줄나까지급박해서ㅋ시간분배도안되있...</td>\n",
              "      <td>0</td>\n",
              "      <td>리허설하긴함생방송이벅차면대본대로하던가ㅋ영화더테러보는줄나까지급박해서ㅋ시간분배도안되있고...</td>\n",
              "      <td>139</td>\n",
              "    </tr>\n",
              "    <tr>\n",
              "      <th>194539</th>\n",
              "      <td>7928523</td>\n",
              "      <td>승리는에피소드준비햇다하면서엠씨들은주구장창스캔들얘기만물어보고또엠씨들이포장식으로하면서계...</td>\n",
              "      <td>0</td>\n",
              "      <td>승리는에피소드준비햇다하면서엠씨들은주구장창스캔들얘기만물어보고또엠씨들이포장식으로하면서계...</td>\n",
              "      <td>139</td>\n",
              "    </tr>\n",
              "    <tr>\n",
              "      <th>194540</th>\n",
              "      <td>7923683</td>\n",
              "      <td>ㅋㅋㅋㅋㅋㅋㅋㅋㅋㅋㅋㅋㅋㅋㅋㅋㅋㅋㅋㅋㅋㅋㅋㅋㅋㅋㅋㅋㅋㅋㅋㅋㅋㅋㅋㅋㅋㅋㅋㅋㅋㅋㅋㅋㅋㅋ...</td>\n",
              "      <td>0</td>\n",
              "      <td>ㅋㅋㅋㅋㅋㅋㅋㅋㅋㅋㅋㅋㅋㅋㅋㅋㅋㅋㅋㅋㅋㅋㅋㅋㅋㅋㅋㅋㅋㅋㅋㅋㅋㅋㅋㅋㅋㅋㅋㅋㅋㅋㅋㅋㅋㅋ...</td>\n",
              "      <td>139</td>\n",
              "    </tr>\n",
              "    <tr>\n",
              "      <th>194541</th>\n",
              "      <td>7767475</td>\n",
              "      <td>재미없다ㅠㅠㅠㅠㅠㅠㅠㅠㅠㅠㅠㅠㅠㅠㅠㅠㅠㅠㅠㅠㅠㅠㅠㅠㅠㅠㅠㅠㅠㅠㅠㅠㅠㅠㅠㅠㅠㅠㅠㅠㅠㅠ...</td>\n",
              "      <td>0</td>\n",
              "      <td>재미없다ㅠㅠㅠㅠㅠㅠㅠㅠㅠㅠㅠㅠㅠㅠㅠㅠㅠㅠㅠㅠㅠㅠㅠㅠㅠㅠㅠㅠㅠㅠㅠㅠㅠㅠㅠㅠㅠㅠㅠㅠㅠㅠ...</td>\n",
              "      <td>140</td>\n",
              "    </tr>\n",
              "    <tr>\n",
              "      <th>194542</th>\n",
              "      <td>7967807</td>\n",
              "      <td>ㅋㅋㅋㅋㅋㅋㅋㅋㅋㅋㅋㅋㅋㅋㅋㅋㅋㅋㅋㅋㅋㅋㅋㅋㅋㅋㅋㅋㅋㅋㅋㅋㅋㅋㅋㅋㅋㅋㅋㅋㅋㅋㅋㅋㅋㅋ...</td>\n",
              "      <td>0</td>\n",
              "      <td>ㅋㅋㅋㅋㅋㅋㅋㅋㅋㅋㅋㅋㅋㅋㅋㅋㅋㅋㅋㅋㅋㅋㅋㅋㅋㅋㅋㅋㅋㅋㅋㅋㅋㅋㅋㅋㅋㅋㅋㅋㅋㅋㅋㅋㅋㅋ...</td>\n",
              "      <td>140</td>\n",
              "    </tr>\n",
              "  </tbody>\n",
              "</table>\n",
              "<p>194543 rows × 5 columns</p>\n",
              "</div>"
            ],
            "text/plain": [
              "                id  ... document_len\n",
              "newindex            ...             \n",
              "0         10118564  ...            0\n",
              "1          7981407  ...            0\n",
              "2          2579718  ...            0\n",
              "3          4458771  ...            0\n",
              "4          7564535  ...            0\n",
              "...            ...  ...          ...\n",
              "194538     7928616  ...          139\n",
              "194539     7928523  ...          139\n",
              "194540     7923683  ...          139\n",
              "194541     7767475  ...          140\n",
              "194542     7967807  ...          140\n",
              "\n",
              "[194543 rows x 5 columns]"
            ]
          },
          "metadata": {
            "tags": []
          },
          "execution_count": 114
        }
      ]
    },
    {
      "cell_type": "code",
      "metadata": {
        "colab": {
          "base_uri": "https://localhost:8080/",
          "height": 402
        },
        "id": "QlrLdy6Jg0ko",
        "outputId": "70fb41c8-9115-48ad-f2d6-ad819aed6d79"
      },
      "source": [
        "short_df = unique_df[:][int(round(total*0.087)):int(round(total*0.287))]\n",
        "short_df"
      ],
      "execution_count": null,
      "outputs": [
        {
          "output_type": "execute_result",
          "data": {
            "text/html": [
              "<div>\n",
              "<style scoped>\n",
              "    .dataframe tbody tr th:only-of-type {\n",
              "        vertical-align: middle;\n",
              "    }\n",
              "\n",
              "    .dataframe tbody tr th {\n",
              "        vertical-align: top;\n",
              "    }\n",
              "\n",
              "    .dataframe thead th {\n",
              "        text-align: right;\n",
              "    }\n",
              "</style>\n",
              "<table border=\"1\" class=\"dataframe\">\n",
              "  <thead>\n",
              "    <tr style=\"text-align: right;\">\n",
              "      <th></th>\n",
              "      <th>id</th>\n",
              "      <th>document</th>\n",
              "      <th>label</th>\n",
              "      <th>preprocessed_document</th>\n",
              "      <th>document_len</th>\n",
              "      <th>newindex</th>\n",
              "    </tr>\n",
              "  </thead>\n",
              "  <tbody>\n",
              "    <tr>\n",
              "      <th>79060</th>\n",
              "      <td>6022374</td>\n",
              "      <td>배우팝스타 최고</td>\n",
              "      <td>1</td>\n",
              "      <td>배우팝스타최고</td>\n",
              "      <td>7</td>\n",
              "      <td>16925</td>\n",
              "    </tr>\n",
              "    <tr>\n",
              "      <th>119643</th>\n",
              "      <td>148361</td>\n",
              "      <td>캠페인 동참 ㅋㅋ</td>\n",
              "      <td>0</td>\n",
              "      <td>캠페인동참ㅋㅋ</td>\n",
              "      <td>7</td>\n",
              "      <td>16926</td>\n",
              "    </tr>\n",
              "    <tr>\n",
              "      <th>169510</th>\n",
              "      <td>7661175</td>\n",
              "      <td>지나친 무리수다</td>\n",
              "      <td>0</td>\n",
              "      <td>지나친무리수다</td>\n",
              "      <td>7</td>\n",
              "      <td>16927</td>\n",
              "    </tr>\n",
              "    <tr>\n",
              "      <th>190797</th>\n",
              "      <td>7139310</td>\n",
              "      <td>이것도 영화라고;;;;</td>\n",
              "      <td>0</td>\n",
              "      <td>이것도영화라고</td>\n",
              "      <td>7</td>\n",
              "      <td>16928</td>\n",
              "    </tr>\n",
              "    <tr>\n",
              "      <th>25142</th>\n",
              "      <td>8066167</td>\n",
              "      <td>최고 인듯 하네요 !!!</td>\n",
              "      <td>1</td>\n",
              "      <td>최고인듯하네요</td>\n",
              "      <td>7</td>\n",
              "      <td>16929</td>\n",
              "    </tr>\n",
              "    <tr>\n",
              "      <th>...</th>\n",
              "      <td>...</td>\n",
              "      <td>...</td>\n",
              "      <td>...</td>\n",
              "      <td>...</td>\n",
              "      <td>...</td>\n",
              "      <td>...</td>\n",
              "    </tr>\n",
              "    <tr>\n",
              "      <th>24728</th>\n",
              "      <td>5127702</td>\n",
              "      <td>후반부로 갈수록 아쉬워는 영화</td>\n",
              "      <td>1</td>\n",
              "      <td>후반부로갈수록아쉬워는영화</td>\n",
              "      <td>13</td>\n",
              "      <td>55829</td>\n",
              "    </tr>\n",
              "    <tr>\n",
              "      <th>106714</th>\n",
              "      <td>9470067</td>\n",
              "      <td>댓글알바 때문에 1점 벨런스맞춤</td>\n",
              "      <td>0</td>\n",
              "      <td>댓글알바때문에점벨런스맞춤</td>\n",
              "      <td>13</td>\n",
              "      <td>55830</td>\n",
              "    </tr>\n",
              "    <tr>\n",
              "      <th>50132</th>\n",
              "      <td>9616988</td>\n",
              "      <td>브랜든대령님 겨론해주세여 ㅠ</td>\n",
              "      <td>1</td>\n",
              "      <td>브랜든대령님겨론해주세여ㅠ</td>\n",
              "      <td>13</td>\n",
              "      <td>55831</td>\n",
              "    </tr>\n",
              "    <tr>\n",
              "      <th>146602</th>\n",
              "      <td>10221286</td>\n",
              "      <td>개노잼영화는평점떨어트리기</td>\n",
              "      <td>0</td>\n",
              "      <td>개노잼영화는평점떨어트리기</td>\n",
              "      <td>13</td>\n",
              "      <td>55832</td>\n",
              "    </tr>\n",
              "    <tr>\n",
              "      <th>148171</th>\n",
              "      <td>10017021</td>\n",
              "      <td>정말 실망 재미없었다 재미없음</td>\n",
              "      <td>0</td>\n",
              "      <td>정말실망재미없었다재미없음</td>\n",
              "      <td>13</td>\n",
              "      <td>55833</td>\n",
              "    </tr>\n",
              "  </tbody>\n",
              "</table>\n",
              "<p>38909 rows × 6 columns</p>\n",
              "</div>"
            ],
            "text/plain": [
              "              id           document  ...  document_len newindex\n",
              "79060    6022374           배우팝스타 최고  ...             7    16925\n",
              "119643    148361          캠페인 동참 ㅋㅋ  ...             7    16926\n",
              "169510   7661175           지나친 무리수다  ...             7    16927\n",
              "190797   7139310       이것도 영화라고;;;;  ...             7    16928\n",
              "25142    8066167      최고 인듯 하네요 !!!  ...             7    16929\n",
              "...          ...                ...  ...           ...      ...\n",
              "24728    5127702   후반부로 갈수록 아쉬워는 영화  ...            13    55829\n",
              "106714   9470067  댓글알바 때문에 1점 벨런스맞춤  ...            13    55830\n",
              "50132    9616988    브랜든대령님 겨론해주세여 ㅠ  ...            13    55831\n",
              "146602  10221286      개노잼영화는평점떨어트리기  ...            13    55832\n",
              "148171  10017021   정말 실망 재미없었다 재미없음  ...            13    55833\n",
              "\n",
              "[38909 rows x 6 columns]"
            ]
          },
          "metadata": {
            "tags": []
          },
          "execution_count": 120
        }
      ]
    },
    {
      "cell_type": "code",
      "metadata": {
        "colab": {
          "base_uri": "https://localhost:8080/",
          "height": 570
        },
        "id": "2F-JpWrzhKOv",
        "outputId": "af522243-6f18-403a-c5dd-c86a23f3aff3"
      },
      "source": [
        "long_df = unique_df[:][int(round(total*(1-0.2-0.087))):int(round(total*(1-0.087)))]\n",
        "long_df"
      ],
      "execution_count": null,
      "outputs": [
        {
          "output_type": "execute_result",
          "data": {
            "text/html": [
              "<div>\n",
              "<style scoped>\n",
              "    .dataframe tbody tr th:only-of-type {\n",
              "        vertical-align: middle;\n",
              "    }\n",
              "\n",
              "    .dataframe tbody tr th {\n",
              "        vertical-align: top;\n",
              "    }\n",
              "\n",
              "    .dataframe thead th {\n",
              "        text-align: right;\n",
              "    }\n",
              "</style>\n",
              "<table border=\"1\" class=\"dataframe\">\n",
              "  <thead>\n",
              "    <tr style=\"text-align: right;\">\n",
              "      <th></th>\n",
              "      <th>id</th>\n",
              "      <th>document</th>\n",
              "      <th>label</th>\n",
              "      <th>preprocessed_document</th>\n",
              "      <th>document_len</th>\n",
              "      <th>newindex</th>\n",
              "    </tr>\n",
              "  </thead>\n",
              "  <tbody>\n",
              "    <tr>\n",
              "      <th>167529</th>\n",
              "      <td>4124245</td>\n",
              "      <td>이런남자젤싫다 능력없이무작정쫓아다니는...말도안되는영화스토리</td>\n",
              "      <td>0</td>\n",
              "      <td>이런남자젤싫다능력없이무작정쫓아다니는말도안되는영화스토리</td>\n",
              "      <td>29</td>\n",
              "      <td>138709</td>\n",
              "    </tr>\n",
              "    <tr>\n",
              "      <th>76084</th>\n",
              "      <td>5109297</td>\n",
              "      <td>아이디어는 진부할지몰라도 실제 상황을 영화적으로 raw하게 잘 보여준듯</td>\n",
              "      <td>1</td>\n",
              "      <td>아이디어는진부할지몰라도실제상황을영화적으로하게잘보여준듯</td>\n",
              "      <td>29</td>\n",
              "      <td>138710</td>\n",
              "    </tr>\n",
              "    <tr>\n",
              "      <th>126820</th>\n",
              "      <td>8616786</td>\n",
              "      <td>글쎄요:) 마지막엔 따뜻하고 짠했지만, 과정은 좋지않았다. 참 아쉬운 영화.</td>\n",
              "      <td>0</td>\n",
              "      <td>글쎄요마지막엔따뜻하고짠했지만과정은좋지않았다참아쉬운영화</td>\n",
              "      <td>29</td>\n",
              "      <td>138711</td>\n",
              "    </tr>\n",
              "    <tr>\n",
              "      <th>14534</th>\n",
              "      <td>4800088</td>\n",
              "      <td>가까운 것에 대한 소중함을 느끼지 못했던 나를 부끄럽게 만들어 주었다</td>\n",
              "      <td>1</td>\n",
              "      <td>가까운것에대한소중함을느끼지못했던나를부끄럽게만들어주었다</td>\n",
              "      <td>29</td>\n",
              "      <td>138712</td>\n",
              "    </tr>\n",
              "    <tr>\n",
              "      <th>120286</th>\n",
              "      <td>2992799</td>\n",
              "      <td>영화에서 재미를 빼면 어쩌란 거냐.. 아무리 블랙풍자코미디라곤 하지만..</td>\n",
              "      <td>0</td>\n",
              "      <td>영화에서재미를빼면어쩌란거냐아무리블랙풍자코미디라곤하지만</td>\n",
              "      <td>29</td>\n",
              "      <td>138713</td>\n",
              "    </tr>\n",
              "    <tr>\n",
              "      <th>...</th>\n",
              "      <td>...</td>\n",
              "      <td>...</td>\n",
              "      <td>...</td>\n",
              "      <td>...</td>\n",
              "      <td>...</td>\n",
              "      <td>...</td>\n",
              "    </tr>\n",
              "    <tr>\n",
              "      <th>89855</th>\n",
              "      <td>9730028</td>\n",
              "      <td>마지막에 송중기랑 박보영(할머니)이 서로 끌어안고카메라 옆으로 돌리는씬에서 박보영이...</td>\n",
              "      <td>1</td>\n",
              "      <td>마지막에송중기랑박보영할머니이서로끌어안고카메라옆으로돌리는씬에서박보영이젊었을적으로나오게...</td>\n",
              "      <td>61</td>\n",
              "      <td>177613</td>\n",
              "    </tr>\n",
              "    <tr>\n",
              "      <th>18310</th>\n",
              "      <td>9241082</td>\n",
              "      <td>내가 본 재난영화 중 제일 명작이라 생각되는 영화. 또 보통 2편 나오면 1편에 비...</td>\n",
              "      <td>1</td>\n",
              "      <td>내가본재난영화중제일명작이라생각되는영화또보통편나오면편에비해별론데이건편에는조금못미치지만...</td>\n",
              "      <td>61</td>\n",
              "      <td>177614</td>\n",
              "    </tr>\n",
              "    <tr>\n",
              "      <th>67031</th>\n",
              "      <td>9599582</td>\n",
              "      <td>이미 알고있는 역사에 흥미로운 주제를 곁들여 좋은 이야기를 만든 영화. 개개인의 캐...</td>\n",
              "      <td>1</td>\n",
              "      <td>이미알고있는역사에흥미로운주제를곁들여좋은이야기를만든영화개개인의캐릭터가매력있고특히이정재...</td>\n",
              "      <td>61</td>\n",
              "      <td>177615</td>\n",
              "    </tr>\n",
              "    <tr>\n",
              "      <th>162967</th>\n",
              "      <td>8575577</td>\n",
              "      <td>조자룡이 유비부인과 아들을 구하러 갈 당시 전혀 이름없던 병졸로 나오는게 말도 안된...</td>\n",
              "      <td>0</td>\n",
              "      <td>조자룡이유비부인과아들을구하러갈당시전혀이름없던병졸로나오는게말도안된다조자룡은그당시이미유...</td>\n",
              "      <td>61</td>\n",
              "      <td>177616</td>\n",
              "    </tr>\n",
              "    <tr>\n",
              "      <th>9930</th>\n",
              "      <td>9563837</td>\n",
              "      <td>대사 하나하나가 명언이죠. 인생 사는 것이 결국은 죽기 3일전이라는 대사. 살면서 ...</td>\n",
              "      <td>1</td>\n",
              "      <td>대사하나하나가명언이죠인생사는것이결국은죽기일전이라는대사살면서지금이최악은아닐건데라는대사...</td>\n",
              "      <td>61</td>\n",
              "      <td>177617</td>\n",
              "    </tr>\n",
              "  </tbody>\n",
              "</table>\n",
              "<p>38909 rows × 6 columns</p>\n",
              "</div>"
            ],
            "text/plain": [
              "             id  ... newindex\n",
              "167529  4124245  ...   138709\n",
              "76084   5109297  ...   138710\n",
              "126820  8616786  ...   138711\n",
              "14534   4800088  ...   138712\n",
              "120286  2992799  ...   138713\n",
              "...         ...  ...      ...\n",
              "89855   9730028  ...   177613\n",
              "18310   9241082  ...   177614\n",
              "67031   9599582  ...   177615\n",
              "162967  8575577  ...   177616\n",
              "9930    9563837  ...   177617\n",
              "\n",
              "[38909 rows x 6 columns]"
            ]
          },
          "metadata": {
            "tags": []
          },
          "execution_count": 124
        }
      ]
    },
    {
      "cell_type": "code",
      "metadata": {
        "colab": {
          "base_uri": "https://localhost:8080/"
        },
        "id": "Cso_Ecc-hugf",
        "outputId": "008fc386-5723-4d80-a77e-4ab8c3db6e4c"
      },
      "source": [
        "subset_df = pd.concat([short_df, long_df], axis = 0) # 추출한 짧은 영화 리뷰 데이터와 긴 영화 리뷰 데이터를 병합\n",
        "subset_df.shape "
      ],
      "execution_count": null,
      "outputs": [
        {
          "output_type": "execute_result",
          "data": {
            "text/plain": [
              "(77818, 6)"
            ]
          },
          "metadata": {
            "tags": []
          },
          "execution_count": 125
        }
      ]
    },
    {
      "cell_type": "markdown",
      "metadata": {
        "id": "qhMlWk0hgxdm"
      },
      "source": [
        "# 한국어 형태소 분석기 적용하기\n",
        "- 문장 및 단락들을 형태소, 품사 태깅, 문장 분리 등으로 다양하게 처리해주는 한국어 형태소 분석기 Konlpy\n",
        "- 출처 : https://konlpy-ko.readthedocs.io/ko/v0.4.3/"
      ]
    },
    {
      "cell_type": "code",
      "metadata": {
        "id": "GUjovGYYgxdm"
      },
      "source": [
        "okt = Okt() # 트위터에서 만든 오픈소스 한국어 형태소 분석기\n",
        "komoran = Komoran() # Shineware 연구 동호회에서 개발한 자바 기반 형태소 분석기\n",
        "kkma = Kkma() # 서울대학교 지능형 데이터 시스템 연구실에서 개발한 형태소 분석기"
      ],
      "execution_count": null,
      "outputs": []
    },
    {
      "cell_type": "code",
      "metadata": {
        "colab": {
          "base_uri": "https://localhost:8080/"
        },
        "id": "zCVHbBYogxdo",
        "outputId": "abe07360-8e58-4832-c053-f54b6dba90d2"
      },
      "source": [
        "okt_res = subset_df[\"preprocessed_document\"][:10].apply(lambda x: okt.morphs(x)) # 10개 영화 리뷰에 대해 트위터 형태소 분석기를 적용\n",
        "okt_res # 결과 확인"
      ],
      "execution_count": null,
      "outputs": [
        {
          "output_type": "execute_result",
          "data": {
            "text/plain": [
              "79060         [배우, 팝스타, 최고]\n",
              "119643        [캠페인, 동참, ㅋㅋ]\n",
              "169510        [지나친, 무리수, 다]\n",
              "190797    [이, 것, 도, 영화, 라고]\n",
              "25142       [최고, 인, 듯, 하네요]\n",
              "119605    [중, 에, 제, 일, 쓰레기]\n",
              "79225       [아가, 가, 귀엽, 귀엽]\n",
              "119656    [요, 시, 그란, 도, 시즌]\n",
              "135044    [만든, 이유, 가, 뭐, 야]\n",
              "68279           [굳, ㅠㅠㅠㅠㅠㅠ]\n",
              "Name: preprocessed_document, dtype: object"
            ]
          },
          "metadata": {
            "tags": []
          },
          "execution_count": 128
        }
      ]
    },
    {
      "cell_type": "code",
      "metadata": {
        "colab": {
          "base_uri": "https://localhost:8080/"
        },
        "id": "9qajC5Q3gxdq",
        "outputId": "131a487f-737c-4521-8f4f-ad5a4300ad18"
      },
      "source": [
        "komoran_res = subset_df[\"preprocessed_document\"][:10].apply(lambda x: komoran.morphs(x)) # 10개 영화 리뷰에 대해 코모란 형태소 분석기를 적용하여 결과 확인\n",
        "komoran_res # 결과 확인"
      ],
      "execution_count": null,
      "outputs": [
        {
          "output_type": "execute_result",
          "data": {
            "text/plain": [
              "79060          [배우, 팝, 스타, 최고]\n",
              "119643               [캠페인동참ㅋㅋ]\n",
              "169510        [지나치, ㄴ, 무리수, 다]\n",
              "190797      [이것, 도, 영화, 이, 라고]\n",
              "25142       [최고, 이, ㄴ듯, 하, 네요]\n",
              "119605         [중, 에, 제일, 쓰레기]\n",
              "79225      [아, 가가, 귀, 엽, 귀, 엽]\n",
              "119656       [요시, 그, 란, 도, 시즌]\n",
              "135044    [만들, ㄴ, 이, 유가, 뭐, 야]\n",
              "68279                [굳ㅠㅠㅠㅠㅠㅠ]\n",
              "Name: preprocessed_document, dtype: object"
            ]
          },
          "metadata": {
            "tags": []
          },
          "execution_count": 129
        }
      ]
    },
    {
      "cell_type": "code",
      "metadata": {
        "colab": {
          "base_uri": "https://localhost:8080/",
          "height": 386
        },
        "id": "aAvDSQgHgxdr",
        "outputId": "2e106f89-c800-4723-dcff-9805f584d60e"
      },
      "source": [
        "kkma_res = subset_df[\"preprocessed_document\"][:10].apply(lambda x: kkma.morphs(x)) # 10개 영화 리뷰에 대해 꼬꼬마 형태소 분석기를 적용하여 결과 확인\n",
        "kkma_res # 결과 확인"
      ],
      "execution_count": null,
      "outputs": [
        {
          "output_type": "error",
          "ename": "KeyboardInterrupt",
          "evalue": "ignored",
          "traceback": [
            "\u001b[0;31m---------------------------------------------------------------------------\u001b[0m",
            "\u001b[0;31mKeyboardInterrupt\u001b[0m                         Traceback (most recent call last)",
            "\u001b[0;32m<ipython-input-130-c7d189abbaee>\u001b[0m in \u001b[0;36m<module>\u001b[0;34m()\u001b[0m\n\u001b[0;32m----> 1\u001b[0;31m \u001b[0mkkma_res\u001b[0m \u001b[0;34m=\u001b[0m \u001b[0msubset_df\u001b[0m\u001b[0;34m[\u001b[0m\u001b[0;34m\"preprocessed_document\"\u001b[0m\u001b[0;34m]\u001b[0m\u001b[0;34m[\u001b[0m\u001b[0;34m:\u001b[0m\u001b[0;36m10\u001b[0m\u001b[0;34m]\u001b[0m\u001b[0;34m.\u001b[0m\u001b[0mapply\u001b[0m\u001b[0;34m(\u001b[0m\u001b[0;32mlambda\u001b[0m \u001b[0mx\u001b[0m\u001b[0;34m:\u001b[0m \u001b[0mkkma\u001b[0m\u001b[0;34m.\u001b[0m\u001b[0mmorphs\u001b[0m\u001b[0;34m(\u001b[0m\u001b[0mx\u001b[0m\u001b[0;34m)\u001b[0m\u001b[0;34m)\u001b[0m \u001b[0;31m# 10개 영화 리뷰에 대해 꼬꼬마 형태소 분석기를 적용하여 결과 확인\u001b[0m\u001b[0;34m\u001b[0m\u001b[0;34m\u001b[0m\u001b[0m\n\u001b[0m\u001b[1;32m      2\u001b[0m \u001b[0mkkma_res\u001b[0m \u001b[0;31m# 결과 확인\u001b[0m\u001b[0;34m\u001b[0m\u001b[0;34m\u001b[0m\u001b[0m\n",
            "\u001b[0;32m/usr/local/lib/python3.6/dist-packages/pandas/core/series.py\u001b[0m in \u001b[0;36mapply\u001b[0;34m(self, func, convert_dtype, args, **kwds)\u001b[0m\n\u001b[1;32m   4210\u001b[0m             \u001b[0;32melse\u001b[0m\u001b[0;34m:\u001b[0m\u001b[0;34m\u001b[0m\u001b[0;34m\u001b[0m\u001b[0m\n\u001b[1;32m   4211\u001b[0m                 \u001b[0mvalues\u001b[0m \u001b[0;34m=\u001b[0m \u001b[0mself\u001b[0m\u001b[0;34m.\u001b[0m\u001b[0mastype\u001b[0m\u001b[0;34m(\u001b[0m\u001b[0mobject\u001b[0m\u001b[0;34m)\u001b[0m\u001b[0;34m.\u001b[0m\u001b[0m_values\u001b[0m\u001b[0;34m\u001b[0m\u001b[0;34m\u001b[0m\u001b[0m\n\u001b[0;32m-> 4212\u001b[0;31m                 \u001b[0mmapped\u001b[0m \u001b[0;34m=\u001b[0m \u001b[0mlib\u001b[0m\u001b[0;34m.\u001b[0m\u001b[0mmap_infer\u001b[0m\u001b[0;34m(\u001b[0m\u001b[0mvalues\u001b[0m\u001b[0;34m,\u001b[0m \u001b[0mf\u001b[0m\u001b[0;34m,\u001b[0m \u001b[0mconvert\u001b[0m\u001b[0;34m=\u001b[0m\u001b[0mconvert_dtype\u001b[0m\u001b[0;34m)\u001b[0m\u001b[0;34m\u001b[0m\u001b[0;34m\u001b[0m\u001b[0m\n\u001b[0m\u001b[1;32m   4213\u001b[0m \u001b[0;34m\u001b[0m\u001b[0m\n\u001b[1;32m   4214\u001b[0m         \u001b[0;32mif\u001b[0m \u001b[0mlen\u001b[0m\u001b[0;34m(\u001b[0m\u001b[0mmapped\u001b[0m\u001b[0;34m)\u001b[0m \u001b[0;32mand\u001b[0m \u001b[0misinstance\u001b[0m\u001b[0;34m(\u001b[0m\u001b[0mmapped\u001b[0m\u001b[0;34m[\u001b[0m\u001b[0;36m0\u001b[0m\u001b[0;34m]\u001b[0m\u001b[0;34m,\u001b[0m \u001b[0mSeries\u001b[0m\u001b[0;34m)\u001b[0m\u001b[0;34m:\u001b[0m\u001b[0;34m\u001b[0m\u001b[0;34m\u001b[0m\u001b[0m\n",
            "\u001b[0;32mpandas/_libs/lib.pyx\u001b[0m in \u001b[0;36mpandas._libs.lib.map_infer\u001b[0;34m()\u001b[0m\n",
            "\u001b[0;32m<ipython-input-130-c7d189abbaee>\u001b[0m in \u001b[0;36m<lambda>\u001b[0;34m(x)\u001b[0m\n\u001b[0;32m----> 1\u001b[0;31m \u001b[0mkkma_res\u001b[0m \u001b[0;34m=\u001b[0m \u001b[0msubset_df\u001b[0m\u001b[0;34m[\u001b[0m\u001b[0;34m\"preprocessed_document\"\u001b[0m\u001b[0;34m]\u001b[0m\u001b[0;34m[\u001b[0m\u001b[0;34m:\u001b[0m\u001b[0;36m10\u001b[0m\u001b[0;34m]\u001b[0m\u001b[0;34m.\u001b[0m\u001b[0mapply\u001b[0m\u001b[0;34m(\u001b[0m\u001b[0;32mlambda\u001b[0m \u001b[0mx\u001b[0m\u001b[0;34m:\u001b[0m \u001b[0mkkma\u001b[0m\u001b[0;34m.\u001b[0m\u001b[0mmorphs\u001b[0m\u001b[0;34m(\u001b[0m\u001b[0mx\u001b[0m\u001b[0;34m)\u001b[0m\u001b[0;34m)\u001b[0m \u001b[0;31m# 10개 영화 리뷰에 대해 꼬꼬마 형태소 분석기를 적용하여 결과 확인\u001b[0m\u001b[0;34m\u001b[0m\u001b[0;34m\u001b[0m\u001b[0m\n\u001b[0m\u001b[1;32m      2\u001b[0m \u001b[0mkkma_res\u001b[0m \u001b[0;31m# 결과 확인\u001b[0m\u001b[0;34m\u001b[0m\u001b[0;34m\u001b[0m\u001b[0m\n",
            "\u001b[0;32m/usr/local/lib/python3.6/dist-packages/konlpy/tag/_kkma.py\u001b[0m in \u001b[0;36mmorphs\u001b[0;34m(self, phrase)\u001b[0m\n\u001b[1;32m     82\u001b[0m         \u001b[0;34m\"\"\"Parse phrase to morphemes.\"\"\"\u001b[0m\u001b[0;34m\u001b[0m\u001b[0;34m\u001b[0m\u001b[0m\n\u001b[1;32m     83\u001b[0m \u001b[0;34m\u001b[0m\u001b[0m\n\u001b[0;32m---> 84\u001b[0;31m         \u001b[0;32mreturn\u001b[0m \u001b[0;34m[\u001b[0m\u001b[0ms\u001b[0m \u001b[0;32mfor\u001b[0m \u001b[0ms\u001b[0m\u001b[0;34m,\u001b[0m \u001b[0mt\u001b[0m \u001b[0;32min\u001b[0m \u001b[0mself\u001b[0m\u001b[0;34m.\u001b[0m\u001b[0mpos\u001b[0m\u001b[0;34m(\u001b[0m\u001b[0mphrase\u001b[0m\u001b[0;34m)\u001b[0m\u001b[0;34m]\u001b[0m\u001b[0;34m\u001b[0m\u001b[0;34m\u001b[0m\u001b[0m\n\u001b[0m\u001b[1;32m     85\u001b[0m \u001b[0;34m\u001b[0m\u001b[0m\n\u001b[1;32m     86\u001b[0m     \u001b[0;32mdef\u001b[0m \u001b[0msentences\u001b[0m\u001b[0;34m(\u001b[0m\u001b[0mself\u001b[0m\u001b[0;34m,\u001b[0m \u001b[0mphrase\u001b[0m\u001b[0;34m)\u001b[0m\u001b[0;34m:\u001b[0m\u001b[0;34m\u001b[0m\u001b[0;34m\u001b[0m\u001b[0m\n",
            "\u001b[0;32m/usr/local/lib/python3.6/dist-packages/konlpy/tag/_kkma.py\u001b[0m in \u001b[0;36mpos\u001b[0;34m(self, phrase, flatten, join)\u001b[0m\n\u001b[1;32m     53\u001b[0m         \"\"\"\n\u001b[1;32m     54\u001b[0m \u001b[0;34m\u001b[0m\u001b[0m\n\u001b[0;32m---> 55\u001b[0;31m         \u001b[0msentences\u001b[0m \u001b[0;34m=\u001b[0m \u001b[0mself\u001b[0m\u001b[0;34m.\u001b[0m\u001b[0mjki\u001b[0m\u001b[0;34m.\u001b[0m\u001b[0mmorphAnalyzer\u001b[0m\u001b[0;34m(\u001b[0m\u001b[0mphrase\u001b[0m\u001b[0;34m)\u001b[0m\u001b[0;34m\u001b[0m\u001b[0;34m\u001b[0m\u001b[0m\n\u001b[0m\u001b[1;32m     56\u001b[0m         \u001b[0mmorphemes\u001b[0m \u001b[0;34m=\u001b[0m \u001b[0;34m[\u001b[0m\u001b[0;34m]\u001b[0m\u001b[0;34m\u001b[0m\u001b[0;34m\u001b[0m\u001b[0m\n\u001b[1;32m     57\u001b[0m         \u001b[0;32mif\u001b[0m \u001b[0;32mnot\u001b[0m \u001b[0msentences\u001b[0m\u001b[0;34m:\u001b[0m\u001b[0;34m\u001b[0m\u001b[0;34m\u001b[0m\u001b[0m\n",
            "\u001b[0;31mKeyboardInterrupt\u001b[0m: "
          ]
        }
      ]
    },
    {
      "cell_type": "code",
      "metadata": {
        "colab": {
          "base_uri": "https://localhost:8080/"
        },
        "id": "DTt7NJMmgxdt",
        "outputId": "48d7650b-65b0-4b84-b83f-f8ff9fd8d880"
      },
      "source": [
        "from tqdm import tqdm\n",
        "tqdm.pandas()\n",
        "subset_df[\"okt_res\"] = subset_df[\"preprocessed_document\"].progress_apply(lambda x: okt.morphs(x))\n",
        "subset_df[\"komoran_res\"] = subset_df[\"preprocessed_document\"].progress_apply(lambda x: komoran.morphs(x))"
      ],
      "execution_count": null,
      "outputs": [
        {
          "output_type": "stream",
          "text": [
            " 43%|████▎     | 33252/77818 [02:30<04:52, 152.29it/s]"
          ],
          "name": "stderr"
        }
      ]
    },
    {
      "cell_type": "code",
      "metadata": {
        "id": "PuxKjmsxgxdu"
      },
      "source": [
        "subset_df"
      ],
      "execution_count": null,
      "outputs": []
    },
    {
      "cell_type": "code",
      "metadata": {
        "id": "i_Wi5oEugxdw"
      },
      "source": [
        "subset_df.to_csv(\"gdrive/My Drive/data/preprocessed_ratings.csv\") # subset_df 파일을 csv 형태로 저장"
      ],
      "execution_count": null,
      "outputs": []
    },
    {
      "cell_type": "code",
      "metadata": {
        "id": "ZnRqMd9kiKA-"
      },
      "source": [
        ""
      ],
      "execution_count": null,
      "outputs": []
    }
  ]
}